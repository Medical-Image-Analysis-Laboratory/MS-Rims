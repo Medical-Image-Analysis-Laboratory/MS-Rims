{
 "cells": [
  {
   "cell_type": "code",
   "execution_count": 1,
   "metadata": {},
   "outputs": [
    {
     "name": "stdout",
     "output_type": "stream",
     "text": [
      "Loading configuration...\n",
      "Configuration loaded successfully!\n",
      "_____________________________\n",
      "\n"
     ]
    }
   ],
   "source": [
    "import sys\n",
    "sys.path.append(\"..\")\n",
    "from utils import read_patients_metadata\n",
    "import numpy as np\n",
    "import matplotlib.pyplot as plt\n",
    "import seaborn as sns\n",
    "from utils import load_lesions, apply_cleaner, load_patient_lesions, get_folds_structure\n",
    "from config import *\n",
    "import numpy as np\n",
    "import pandas as pd"
   ]
  },
  {
   "cell_type": "code",
   "execution_count": 2,
   "metadata": {},
   "outputs": [],
   "source": [
    "ONLY_CLEANED = True\n",
    "FOLDS_VERSION = \"all\""
   ]
  },
  {
   "cell_type": "code",
   "execution_count": null,
   "metadata": {
    "scrolled": true
   },
   "outputs": [],
   "source": [
    "#apply_cleaner(lpp, PATCH_SIZE)\n",
    "data = read_patients_metadata(PATCH_SIZE)"
   ]
  },
  {
   "cell_type": "code",
   "execution_count": 4,
   "metadata": {},
   "outputs": [
    {
     "name": "stdout",
     "output_type": "stream",
     "text": [
      "dict_keys(['2000', '2001', '2002', '2003', '2004', '2005', '2006', '2007', '2008', '2009', '2010', '2011', '2012', '2013', '2014', '2015'])\n"
     ]
    }
   ],
   "source": [
    "print(data[DATASET_BASEL_ID][121].keys())"
   ]
  },
  {
   "cell_type": "code",
   "execution_count": null,
   "metadata": {},
   "outputs": [],
   "source": [
    "def show_count(ax):\n",
    "    max_heigh = max([p.get_height() for p in ax.patches])\n",
    "    for p in ax.patches:\n",
    "        height = p.get_height()\n",
    "        ax.text(p.get_x()+p.get_width()/2.,\n",
    "                height + 0.03 * max_heigh,\n",
    "                '{:d}'.format(int(height)),\n",
    "                ha=\"center\") "
   ]
  },
  {
   "cell_type": "code",
   "execution_count": null,
   "metadata": {},
   "outputs": [],
   "source": [
    "\n",
    "    \n",
    "def get_dataframe_from_metadata(only_cleaned=True):\n",
    "    # We process the data\n",
    "    folds = get_folds_structure(version=FOLDS_VERSION)\n",
    "    data_list = []\n",
    "    for i in range(len(folds)):\n",
    "        pd_data = [(\"Basel\" if db == 0 else \"CHUV\", pat, les, \"Rim+\" if int(les) // 1000 == 1 else \"Rim-\", \n",
    "                    i, int(data[db][int(pat)][les][\"volume\"]), \n",
    "                    data[db][int(pat)][les][\"ignore\"],\n",
    "                    np.NaN if len(data[db][int(pat)][les][\"reasons_to_ignore\"]) == 0 else get_exclusion_reason(int(min(data[db][int(pat)][les][\"reasons_to_ignore\"]))),\n",
    "                    data[db][int(pat)][les][\"reasons_to_ignore\"])\n",
    "                   for (db, pat) in folds[i]\n",
    "                   for les in data[db][int(pat)]\n",
    "                   if (not only_cleaned) or (not data[db][int(pat)][les][\"ignore\"])]\n",
    "        data_list.append(pd.DataFrame(data = pd_data, columns=[\"Dataset\", \"Patient\", \"Lesion\", \"Type\", \"Fold\", \"Volume\", \"Ignore\", \"Main_reason\", \"Reasons\"]))\n",
    "    df = pd.concat(data_list)\n",
    "    return df\n"
   ]
  },
  {
   "cell_type": "code",
   "execution_count": 10,
   "metadata": {},
   "outputs": [],
   "source": [
    "df = get_dataframe_from_metadata(only_cleaned=ONLY_CLEANED)"
   ]
  },
  {
   "cell_type": "code",
   "execution_count": 9,
   "metadata": {},
   "outputs": [],
   "source": [
    "df = df.reset_index()\n",
    "df = df.drop(df[df[\"Dataset\"] == \"CHUV\"].index)"
   ]
  },
  {
   "cell_type": "markdown",
   "metadata": {},
   "source": [
    "## 1. Dataset analysis"
   ]
  },
  {
   "cell_type": "code",
   "execution_count": 52,
   "metadata": {},
   "outputs": [
    {
     "data": {
      "image/png": "[encoded data removed]",
      "text/plain": [
       "<Figure size 432x288 with 1 Axes>"
      ]
     },
     "metadata": {
      "needs_background": "light"
     },
     "output_type": "display_data"
    }
   ],
   "source": [
    "show_count(sns.countplot(data=df.groupby(\"Patient\").first(), x=\"Dataset\"))\n",
    "plt.yticks(range(0, 100, 20))\n",
    "plt.title(\"Patients per Center\")\n",
    "plt.show()"
   ]
  },
  {
   "cell_type": "code",
   "execution_count": 53,
   "metadata": {},
   "outputs": [
    {
     "data": {
      "image/png": "[encoded data removed]",
      "text/plain": [
       "<Figure size 432x288 with 1 Axes>"
      ]
     },
     "metadata": {
      "needs_background": "light"
     },
     "output_type": "display_data"
    }
   ],
   "source": [
    "show_count(sns.countplot(data=df, x=\"Type\"))\n",
    "#plt.yticks(range(0, 6001, 1000))\n",
    "plt.title(\"Lesions per type\")\n",
    "plt.show()"
   ]
  },
  {
   "cell_type": "code",
   "execution_count": 10,
   "metadata": {},
   "outputs": [
    {
     "name": "stdout",
     "output_type": "stream",
     "text": [
      "Range of volumes\n",
      "45\n",
      "9947\n"
     ]
    }
   ],
   "source": [
    "print(\"Range of volumes\")\n",
    "print(np.min(df[\"Volume\"]))\n",
    "print(np.max(df[\"Volume\"]))"
   ]
  },
  {
   "cell_type": "code",
   "execution_count": 11,
   "metadata": {},
   "outputs": [
    {
     "data": {
      "image/png": "[encoded data removed]",
      "text/plain": [
       "<Figure size 432x288 with 1 Axes>"
      ]
     },
     "metadata": {
      "needs_background": "light"
     },
     "output_type": "display_data"
    },
    {
     "data": {
      "image/png": "[encoded data removed]",
      "text/plain": [
       "<Figure size 432x288 with 1 Axes>"
      ]
     },
     "metadata": {
      "needs_background": "light"
     },
     "output_type": "display_data"
    },
    {
     "data": {
      "image/png": "[encoded data removed]",
      "text/plain": [
       "<Figure size 432x288 with 1 Axes>"
      ]
     },
     "metadata": {
      "needs_background": "light"
     },
     "output_type": "display_data"
    }
   ],
   "source": [
    "bins = range(5000, 10000, 500)\n",
    "\n",
    "plt.hist(df[\"Volume\"], bins=bins)\n",
    "plt.title(\"Volumes ALL\")\n",
    "plt.show()\n",
    "\n",
    "plt.hist(df.loc[df[\"Type\"] == \"Rim+\", \"Volume\"], bins=bins)\n",
    "plt.title(\"Volumes Rim-\")\n",
    "plt.show()\n",
    "\n",
    "plt.hist(df.loc[df[\"Type\"] == \"Rim-\", \"Volume\"], bins=bins)\n",
    "plt.title(\"Volumes Rim+\")\n",
    "plt.show()"
   ]
  },
  {
   "cell_type": "markdown",
   "metadata": {},
   "source": [
    "## 2. Folds analysis"
   ]
  },
  {
   "cell_type": "code",
   "execution_count": 12,
   "metadata": {},
   "outputs": [
    {
     "data": {
      "image/png": "[encoded data removed]",
      "text/plain": [
       "<Figure size 432x288 with 1 Axes>"
      ]
     },
     "metadata": {
      "needs_background": "light"
     },
     "output_type": "display_data"
    },
    {
     "data": {
      "image/png": "[encoded data removed]",
      "text/plain": [
       "<Figure size 432x288 with 1 Axes>"
      ]
     },
     "metadata": {
      "needs_background": "light"
     },
     "output_type": "display_data"
    }
   ],
   "source": [
    "import pandas as pd\n",
    "\n",
    "def show_num_lesions_per_fold(rim = True):\n",
    "    \n",
    "    if rim:\n",
    "        ax = sns.countplot(x=\"Fold\", hue=\"Dataset\", data=df.loc[df[\"Type\"] == \"Rim+\"].sort_values(\"Dataset\"))\n",
    "        plt.yticks(range(0, 121, 10))\n",
    "    else:\n",
    "        ax = sns.countplot(x=\"Fold\", hue=\"Dataset\", data=df.loc[df[\"Type\"] == \"Rim-\"].sort_values(\"Dataset\"))\n",
    "        plt.yticks(range(0, 1601, 100))\n",
    "        \n",
    "    show_count(ax)\n",
    "    plt.xlabel(\"Folds\")\n",
    "    plt.ylabel(\"Lesions\")\n",
    "    plt.title(f\"Nº of Rim{'+' if rim else '-'} lesions per FOLD and per CENTER\")\n",
    "    plt.savefig(f'./figs/per_fold_rim_{rim}.png', dpi = 250, format=\"png\", bbox_inches='tight')\n",
    "    plt.show()\n",
    "    \n",
    "show_num_lesions_per_fold(rim=True)\n",
    "show_num_lesions_per_fold(rim=False)"
   ]
  },
  {
   "cell_type": "code",
   "execution_count": 13,
   "metadata": {},
   "outputs": [
    {
     "name": "stdout",
     "output_type": "stream",
     "text": [
      "679.0\n",
      "4.949747468305833\n",
      "492.75\n",
      "4.602988159880492\n"
     ]
    }
   ],
   "source": [
    "arr = (684,682,679,671)\n",
    "print(np.mean(arr))\n",
    "print(np.std(arr))\n",
    "\n",
    "arr = (485,494,495,497)\n",
    "print(np.mean(arr))\n",
    "print(np.std(arr))"
   ]
  },
  {
   "cell_type": "code",
   "execution_count": 14,
   "metadata": {},
   "outputs": [
    {
     "data": {
      "image/png": "[encoded data removed]",
      "text/plain": [
       "<Figure size 432x288 with 1 Axes>"
      ]
     },
     "metadata": {
      "needs_background": "light"
     },
     "output_type": "display_data"
    }
   ],
   "source": [
    "import pandas as pd\n",
    "\n",
    "def show_proportions_per_fold():\n",
    "    ax = sns.countplot(x=\"Fold\", hue=\"Type\", data=df)\n",
    "    show_count(ax)\n",
    "    \n",
    "    #plt.yticks(range(0, 2100, 500))\n",
    "    plt.xlabel(\"Folds\")\n",
    "    plt.ylabel(\"Lesions\")\n",
    "    plt.title(\"Nº of lesions per FOLD\")\n",
    "    plt.savefig(f'./figs/comparison_PT_rims_proportion.png', dpi = 250, format=\"png\", bbox_inches='tight')\n",
    "    plt.show()\n",
    "    \n",
    "show_proportions_per_fold()"
   ]
  },
  {
   "cell_type": "code",
   "execution_count": 15,
   "metadata": {},
   "outputs": [
    {
     "data": {
      "image/png": "[encoded data removed]",
      "text/plain": [
       "<Figure size 432x288 with 1 Axes>"
      ]
     },
     "metadata": {
      "needs_background": "light"
     },
     "output_type": "display_data"
    }
   ],
   "source": [
    "import pandas as pd\n",
    "\n",
    "ax = sns.countplot(x=\"Fold\", hue=\"Dataset\", data=df.groupby(\"Patient\").first().sort_values(\"Dataset\"))\n",
    "    \n",
    "for p in ax.patches:\n",
    "    height = p.get_height()\n",
    "    ax.text(p.get_x()+p.get_width()/2.,\n",
    "            height + 0.05 * height,\n",
    "            '{:d}'.format(int(height)),\n",
    "            ha=\"center\") \n",
    "        \n",
    "plt.yticks(range(0, 26, 2))\n",
    "plt.xlabel(\"Folds\")\n",
    "plt.ylabel(\"Patients\")\n",
    "plt.title(\"Nº of patients per FOLD and per CENTER\")\n",
    "plt.savefig(f'./figs/per_fold_patients.png', dpi = 250, format=\"png\", bbox_inches='tight')\n",
    "plt.show()"
   ]
  },
  {
   "cell_type": "code",
   "execution_count": 16,
   "metadata": {},
   "outputs": [
    {
     "data": {
      "image/png": "[encoded data removed]",
      "text/plain": [
       "<Figure size 576x432 with 1 Axes>"
      ]
     },
     "metadata": {
      "needs_background": "light"
     },
     "output_type": "display_data"
    }
   ],
   "source": [
    "import pandas as pd\n",
    "\n",
    "def show_volume_violin_plots(rim = True):\n",
    "    plt.figure(figsize=(8,6))\n",
    "    ax = sns.boxplot(x=\"Fold\", y=\"Volume\", hue=\"Type\", data=df)\n",
    "    \n",
    "    #plt.ylim(0, 10500)\n",
    "    #plt.yticks(range(0, 10500, 1000))\n",
    "    plt.xlabel(\"Folds\")\n",
    "    plt.ylabel(\"Volume\")\n",
    "    plt.title(\"Boxplots of rim+/- volume per fold\")\n",
    "    plt.savefig(f'./figs/volume_boxplots_folds.png', dpi = 250, format=\"png\", bbox_inches='tight')\n",
    "    plt.show()\n",
    "    \n",
    "show_volume_violin_plots(rim=True)\n"
   ]
  },
  {
   "cell_type": "code",
   "execution_count": 17,
   "metadata": {},
   "outputs": [
    {
     "name": "stdout",
     "output_type": "stream",
     "text": [
      "0.5864332603938731\n",
      "649.0\n",
      "1186.0853391684902\n",
      "819.5\n"
     ]
    },
    {
     "data": {
      "image/png": "[encoded data removed]",
      "text/plain": [
       "<Figure size 432x288 with 1 Axes>"
      ]
     },
     "metadata": {
      "needs_background": "light"
     },
     "output_type": "display_data"
    }
   ],
   "source": [
    "all_rim = df.loc[(df[\"Lesion\"].astype(int) // 1000 == 1), \"Volume\"]\n",
    "sns.distplot(all_rim)\n",
    "plt.xlim((0, 4000))\n",
    "print(len(all_rim.loc[all_rim < 800].index) / len(all_rim.index))\n",
    "print(all_rim.median())\n",
    "print(all_rim.mean())\n",
    "print(np.percentile(all_rim, 60, interpolation = 'midpoint') )"
   ]
  },
  {
   "cell_type": "markdown",
   "metadata": {},
   "source": [
    "## 3. Reasons to ignore"
   ]
  },
  {
   "cell_type": "code",
   "execution_count": 15,
   "metadata": {},
   "outputs": [
    {
     "name": "stdout",
     "output_type": "stream",
     "text": [
      "['< 45' 'Air artifact' '> 10000' 'Rim intrusion' 'Others']\n",
      "1671\n",
      "4451 (4138/313)\n",
      "5144 (4687/457)\n"
     ]
    },
    {
     "data": {
      "image/png": "[encoded data removed]",
      "text/plain": [
       "<Figure size 432x288 with 1 Axes>"
      ]
     },
     "metadata": {
      "needs_background": "light"
     },
     "output_type": "display_data"
    }
   ],
   "source": [
    "df_all = get_dataframe_from_metadata(only_cleaned=False)\n",
    "print(df_all.loc[df_all[\"Ignore\"] != 0, \"Main_reason\"].unique())\n",
    "print(len(df_all[df_all[\"Main_reason\"] == \"< 45\"]))\n",
    "df_all = df_all.reset_index()\n",
    "df_all = df_all.drop(df_all[df_all[\"Dataset\"] == \"CHUV\"].index)\n",
    "\n",
    "print(f'{len(df_all)} ({len(df_all[df_all[\"Type\"] == \"Rim-\"])}/{len(df_all[df_all[\"Type\"] == \"Rim+\"])})')\n",
    "print(f'{len(df)} ({len(df[df[\"Type\"] == \"Rim-\"])}/{len(df[df[\"Type\"] == \"Rim+\"])})')\n",
    "\n",
    "show_count(sns.countplot(data=df_all.loc[(df_all[\"Ignore\"])].sort_values(\"Main_reason\"), x=\"Main_reason\"))\n",
    "#plt.yticks(range(0, 2001, 500))\n",
    "plt.title(\"Lesions per type\")\n",
    "plt.show()\n",
    "#plt.savefig(f'./figs/cleaned.png', dpi = 250, format=\"png\", bbox_inches='tight')"
   ]
  },
  {
   "cell_type": "code",
   "execution_count": 93,
   "metadata": {},
   "outputs": [
    {
     "data": {
      "text/html": [
       "<div>\n",
       "<style scoped>\n",
       "    .dataframe tbody tr th:only-of-type {\n",
       "        vertical-align: middle;\n",
       "    }\n",
       "\n",
       "    .dataframe tbody tr th {\n",
       "        vertical-align: top;\n",
       "    }\n",
       "\n",
       "    .dataframe thead th {\n",
       "        text-align: right;\n",
       "    }\n",
       "</style>\n",
       "<table border=\"1\" class=\"dataframe\">\n",
       "  <thead>\n",
       "    <tr style=\"text-align: right;\">\n",
       "      <th></th>\n",
       "      <th>Dataset</th>\n",
       "      <th>Patient</th>\n",
       "      <th>Lesion</th>\n",
       "      <th>Type</th>\n",
       "      <th>Fold</th>\n",
       "      <th>Volume</th>\n",
       "      <th>Ignore</th>\n",
       "      <th>Main_reason</th>\n",
       "      <th>Reasons</th>\n",
       "    </tr>\n",
       "  </thead>\n",
       "  <tbody>\n",
       "    <tr>\n",
       "      <td>637</td>\n",
       "      <td>Basel</td>\n",
       "      <td>063</td>\n",
       "      <td>2021</td>\n",
       "      <td>Rim-</td>\n",
       "      <td>0</td>\n",
       "      <td>4</td>\n",
       "      <td>True</td>\n",
       "      <td>Others</td>\n",
       "      <td>[-1]</td>\n",
       "    </tr>\n",
       "    <tr>\n",
       "      <td>638</td>\n",
       "      <td>Basel</td>\n",
       "      <td>063</td>\n",
       "      <td>2022</td>\n",
       "      <td>Rim-</td>\n",
       "      <td>0</td>\n",
       "      <td>4</td>\n",
       "      <td>True</td>\n",
       "      <td>Others</td>\n",
       "      <td>[-1]</td>\n",
       "    </tr>\n",
       "    <tr>\n",
       "      <td>642</td>\n",
       "      <td>Basel</td>\n",
       "      <td>063</td>\n",
       "      <td>2026</td>\n",
       "      <td>Rim-</td>\n",
       "      <td>0</td>\n",
       "      <td>2</td>\n",
       "      <td>True</td>\n",
       "      <td>Others</td>\n",
       "      <td>[-1]</td>\n",
       "    </tr>\n",
       "    <tr>\n",
       "      <td>752</td>\n",
       "      <td>Basel</td>\n",
       "      <td>064</td>\n",
       "      <td>2097</td>\n",
       "      <td>Rim-</td>\n",
       "      <td>0</td>\n",
       "      <td>44</td>\n",
       "      <td>True</td>\n",
       "      <td>Others</td>\n",
       "      <td>[-1]</td>\n",
       "    </tr>\n",
       "    <tr>\n",
       "      <td>757</td>\n",
       "      <td>Basel</td>\n",
       "      <td>064</td>\n",
       "      <td>2102</td>\n",
       "      <td>Rim-</td>\n",
       "      <td>0</td>\n",
       "      <td>6</td>\n",
       "      <td>True</td>\n",
       "      <td>Others</td>\n",
       "      <td>[-1]</td>\n",
       "    </tr>\n",
       "    <tr>\n",
       "      <td>...</td>\n",
       "      <td>...</td>\n",
       "      <td>...</td>\n",
       "      <td>...</td>\n",
       "      <td>...</td>\n",
       "      <td>...</td>\n",
       "      <td>...</td>\n",
       "      <td>...</td>\n",
       "      <td>...</td>\n",
       "      <td>...</td>\n",
       "    </tr>\n",
       "    <tr>\n",
       "      <td>1754</td>\n",
       "      <td>Basel</td>\n",
       "      <td>128</td>\n",
       "      <td>2182</td>\n",
       "      <td>Rim-</td>\n",
       "      <td>3</td>\n",
       "      <td>43</td>\n",
       "      <td>True</td>\n",
       "      <td>Others</td>\n",
       "      <td>[-1]</td>\n",
       "    </tr>\n",
       "    <tr>\n",
       "      <td>1756</td>\n",
       "      <td>Basel</td>\n",
       "      <td>128</td>\n",
       "      <td>2184</td>\n",
       "      <td>Rim-</td>\n",
       "      <td>3</td>\n",
       "      <td>42</td>\n",
       "      <td>True</td>\n",
       "      <td>Others</td>\n",
       "      <td>[-1]</td>\n",
       "    </tr>\n",
       "    <tr>\n",
       "      <td>1757</td>\n",
       "      <td>Basel</td>\n",
       "      <td>128</td>\n",
       "      <td>2185</td>\n",
       "      <td>Rim-</td>\n",
       "      <td>3</td>\n",
       "      <td>32</td>\n",
       "      <td>True</td>\n",
       "      <td>Others</td>\n",
       "      <td>[-1]</td>\n",
       "    </tr>\n",
       "    <tr>\n",
       "      <td>1760</td>\n",
       "      <td>Basel</td>\n",
       "      <td>128</td>\n",
       "      <td>2188</td>\n",
       "      <td>Rim-</td>\n",
       "      <td>3</td>\n",
       "      <td>32</td>\n",
       "      <td>True</td>\n",
       "      <td>Others</td>\n",
       "      <td>[-1]</td>\n",
       "    </tr>\n",
       "    <tr>\n",
       "      <td>1764</td>\n",
       "      <td>Basel</td>\n",
       "      <td>128</td>\n",
       "      <td>2192</td>\n",
       "      <td>Rim-</td>\n",
       "      <td>3</td>\n",
       "      <td>33</td>\n",
       "      <td>True</td>\n",
       "      <td>Others</td>\n",
       "      <td>[-1]</td>\n",
       "    </tr>\n",
       "  </tbody>\n",
       "</table>\n",
       "<p>1329 rows × 9 columns</p>\n",
       "</div>"
      ],
      "text/plain": [
       "     Dataset Patient Lesion  Type  Fold  Volume  Ignore Main_reason Reasons\n",
       "637    Basel     063   2021  Rim-     0       4    True      Others    [-1]\n",
       "638    Basel     063   2022  Rim-     0       4    True      Others    [-1]\n",
       "642    Basel     063   2026  Rim-     0       2    True      Others    [-1]\n",
       "752    Basel     064   2097  Rim-     0      44    True      Others    [-1]\n",
       "757    Basel     064   2102  Rim-     0       6    True      Others    [-1]\n",
       "...      ...     ...    ...   ...   ...     ...     ...         ...     ...\n",
       "1754   Basel     128   2182  Rim-     3      43    True      Others    [-1]\n",
       "1756   Basel     128   2184  Rim-     3      42    True      Others    [-1]\n",
       "1757   Basel     128   2185  Rim-     3      32    True      Others    [-1]\n",
       "1760   Basel     128   2188  Rim-     3      32    True      Others    [-1]\n",
       "1764   Basel     128   2192  Rim-     3      33    True      Others    [-1]\n",
       "\n",
       "[1329 rows x 9 columns]"
      ]
     },
     "execution_count": 93,
     "metadata": {},
     "output_type": "execute_result"
    }
   ],
   "source": [
    "df_all[(df_all[\"Volume\"] < 45) & (df_all[\"Dataset\"] == \"Basel\")]"
   ]
  },
  {
   "cell_type": "code",
   "execution_count": 55,
   "metadata": {},
   "outputs": [
    {
     "data": {
      "text/html": [
       "<div>\n",
       "<style scoped>\n",
       "    .dataframe tbody tr th:only-of-type {\n",
       "        vertical-align: middle;\n",
       "    }\n",
       "\n",
       "    .dataframe tbody tr th {\n",
       "        vertical-align: top;\n",
       "    }\n",
       "\n",
       "    .dataframe thead th {\n",
       "        text-align: right;\n",
       "    }\n",
       "</style>\n",
       "<table border=\"1\" class=\"dataframe\">\n",
       "  <thead>\n",
       "    <tr style=\"text-align: right;\">\n",
       "      <th></th>\n",
       "      <th>Patient</th>\n",
       "      <th>Lesion</th>\n",
       "      <th>Result</th>\n",
       "      <th>Hospital_ID</th>\n",
       "    </tr>\n",
       "  </thead>\n",
       "  <tbody>\n",
       "    <tr>\n",
       "      <td>0</td>\n",
       "      <td>013</td>\n",
       "      <td>2022</td>\n",
       "      <td>FP</td>\n",
       "      <td>33</td>\n",
       "    </tr>\n",
       "    <tr>\n",
       "      <td>1</td>\n",
       "      <td>014</td>\n",
       "      <td>1000</td>\n",
       "      <td>FN</td>\n",
       "      <td>34</td>\n",
       "    </tr>\n",
       "    <tr>\n",
       "      <td>2</td>\n",
       "      <td>029</td>\n",
       "      <td>1000</td>\n",
       "      <td>FN</td>\n",
       "      <td>73</td>\n",
       "    </tr>\n",
       "    <tr>\n",
       "      <td>3</td>\n",
       "      <td>029</td>\n",
       "      <td>1007</td>\n",
       "      <td>FN</td>\n",
       "      <td>73</td>\n",
       "    </tr>\n",
       "    <tr>\n",
       "      <td>4</td>\n",
       "      <td>039</td>\n",
       "      <td>1004</td>\n",
       "      <td>FN</td>\n",
       "      <td>104</td>\n",
       "    </tr>\n",
       "    <tr>\n",
       "      <td>...</td>\n",
       "      <td>...</td>\n",
       "      <td>...</td>\n",
       "      <td>...</td>\n",
       "      <td>...</td>\n",
       "    </tr>\n",
       "    <tr>\n",
       "      <td>78</td>\n",
       "      <td>129</td>\n",
       "      <td>2023</td>\n",
       "      <td>FP</td>\n",
       "      <td>INSIDER_P084</td>\n",
       "    </tr>\n",
       "    <tr>\n",
       "      <td>79</td>\n",
       "      <td>130</td>\n",
       "      <td>1001</td>\n",
       "      <td>FN</td>\n",
       "      <td>INSIDER_P085</td>\n",
       "    </tr>\n",
       "    <tr>\n",
       "      <td>80</td>\n",
       "      <td>130</td>\n",
       "      <td>1009</td>\n",
       "      <td>FN</td>\n",
       "      <td>INSIDER_P085</td>\n",
       "    </tr>\n",
       "    <tr>\n",
       "      <td>81</td>\n",
       "      <td>132</td>\n",
       "      <td>1001</td>\n",
       "      <td>FN</td>\n",
       "      <td>INSIDER_P091</td>\n",
       "    </tr>\n",
       "    <tr>\n",
       "      <td>82</td>\n",
       "      <td>132</td>\n",
       "      <td>2006</td>\n",
       "      <td>FP</td>\n",
       "      <td>INSIDER_P091</td>\n",
       "    </tr>\n",
       "  </tbody>\n",
       "</table>\n",
       "<p>83 rows × 4 columns</p>\n",
       "</div>"
      ],
      "text/plain": [
       "   Patient Lesion Result   Hospital_ID\n",
       "0      013   2022     FP            33\n",
       "1      014   1000     FN            34\n",
       "2      029   1000     FN            73\n",
       "3      029   1007     FN            73\n",
       "4      039   1004     FN           104\n",
       "..     ...    ...    ...           ...\n",
       "78     129   2023     FP  INSIDER_P084\n",
       "79     130   1001     FN  INSIDER_P085\n",
       "80     130   1009     FN  INSIDER_P085\n",
       "81     132   1001     FN  INSIDER_P091\n",
       "82     132   2006     FP  INSIDER_P091\n",
       "\n",
       "[83 rows x 4 columns]"
      ]
     },
     "execution_count": 55,
     "metadata": {},
     "output_type": "execute_result"
    }
   ],
   "source": [
    "second_rating = pd.read_csv(\"/Users/german/Desktop/second_rating/second_rating.csv\", sep=\";\")\n",
    "\n",
    "\n",
    "correspondences = pd.read_csv(\"/Users/german/Desktop/RimProject/excels/all_participants.csv\", sep=\";\")\n",
    "correspondences[\"Patient\"] = correspondences[\"participant_id\"].apply(lambda idd: idd.split(\"-\")[1])\n",
    "correspondences[\"Hospital_ID\"] = correspondences[\"center_id\"]\n",
    "correspondences = correspondences[[\"Patient\", \"Hospital_ID\"]]\n",
    "second_rating = pd.merge(second_rating, correspondences, on=\"Hospital_ID\", how=\"left\")\n",
    "second_rating[\"Lesion\"] = second_rating[\"Lesion_ID\"].astype(str)\n",
    "second_rating = second_rating[[\"Patient\", \"Lesion\", \"Result\", \"Hospital_ID\"]]\n",
    "second_rating"
   ]
  },
  {
   "cell_type": "code",
   "execution_count": 57,
   "metadata": {},
   "outputs": [],
   "source": [
    "found = pd.merge(second_rating, df_all[df_all[\"Ignore\"] == True], on=[\"Patient\", \"Lesion\"], how=\"left\")\n",
    "found.loc[found[\"Ignore\"] == True]\n",
    "#found.to_csv(\"/Users/german/Desktop/second_rating/special_cases.csv\")"
   ]
  },
  {
   "cell_type": "code",
   "execution_count": null,
   "metadata": {},
   "outputs": [],
   "source": []
  }
 ],
 "metadata": {
  "kernelspec": {
   "display_name": "Python 3",
   "language": "python",
   "name": "python3"
  },
  "language_info": {
   "codemirror_mode": {
    "name": "ipython",
    "version": 3
   },
   "file_extension": ".py",
   "mimetype": "text/x-python",
   "name": "python",
   "nbconvert_exporter": "python",
   "pygments_lexer": "ipython3",
   "version": "3.6.7"
  }
 },
 "nbformat": 4,
 "nbformat_minor": 4
}
