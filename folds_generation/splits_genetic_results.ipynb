{
 "cells": [
  {
   "cell_type": "markdown",
   "metadata": {},
   "source": [
    "# Jupyter to check splits genetic saved results"
   ]
  },
  {
   "cell_type": "code",
   "execution_count": 1,
   "metadata": {},
   "outputs": [
    {
     "name": "stdout",
     "output_type": "stream",
     "text": [
      "Loading configuration...\n",
      "Configuration loaded successfully!\n",
      "_____________________________\n",
      "\n"
     ]
    }
   ],
   "source": [
    "import sys\n",
    "import os \n",
    "import random\n",
    "sys.path.append(\"..\")\n",
    "from utils import read_patients_metadata\n",
    "from config import *\n",
    "\n",
    "import numpy as np\n",
    "#IMPORTANT pip install numpy==1.16.1"
   ]
  },
  {
   "cell_type": "code",
   "execution_count": 2,
   "metadata": {},
   "outputs": [],
   "source": [
    "TOTAL_FOLDS = 4\n",
    "#PERCENTAGES = (3/10, 7/50, 7/50, 7/50, 7/50, 7/50)\n",
    "PERCENTAGES = (0.25, 0.25, 0.25, 0.25)\n"
   ]
  },
  {
   "cell_type": "code",
   "execution_count": 27,
   "metadata": {
    "scrolled": true
   },
   "outputs": [],
   "source": [
    "def show_results(DATASET_ID, PATH):\n",
    "    DATASET = AVAILABLE_DATASETS[DATASET_ID]\n",
    "    \n",
    "    metadata_original = read_patients_metadata(PATCH_SIZE)[DATASET_ID]\n",
    "\n",
    "    volumes = [int(metadata_original[pat][les][\"volume\"]) \n",
    "               for db in metadata_original \n",
    "               for pat in metadata_original \n",
    "               for les in metadata_original[pat]]\n",
    "\n",
    "    pos_to_subj = {}\n",
    "    subj_to_pos = {}\n",
    "    counter = 0\n",
    "\n",
    "    CENTER_PATIENTS = []\n",
    "    for pat in DATASET.get_subjects():\n",
    "        pos_to_subj[counter] = pat\n",
    "        subj_to_pos[pat] = counter\n",
    "        CENTER_PATIENTS.append(counter)\n",
    "        counter += 1\n",
    "\n",
    "    metadata = {}\n",
    "    for pat_int in list(metadata_original.keys()):\n",
    "        pat = f\"{pat_int:03d}\"\n",
    "        metadata[subj_to_pos[pat]] = metadata_original[pat_int]\n",
    "        for les in list(metadata[subj_to_pos[pat]].keys()):\n",
    "            if bool(metadata[subj_to_pos[pat]][les][\"ignore\"]):\n",
    "                metadata[subj_to_pos[pat]].pop(les, None)\n",
    "    \n",
    "    PATS_COUNTS = np.zeros([len(subj_to_pos), 2], dtype='int32')\n",
    "\n",
    "    for pat in CENTER_PATIENTS:\n",
    "        patient_rims_count = len([les for les in metadata[pat].keys() if int(les) // 1000 == 1])\n",
    "        patient_non_rims_count = len([les for les in metadata[pat].keys() if int(les) // 1000 == 2])\n",
    "        PATS_COUNTS[pat][0] = patient_rims_count\n",
    "        PATS_COUNTS[pat][1] = patient_non_rims_count\n",
    "\n",
    "    print(f\"{np.sum(PATS_COUNTS, axis=0)}\")\n",
    "    TOTAL_PATIENTS = PATS_COUNTS.shape[0]\n",
    "    \n",
    "    # Load results\n",
    "    idv = np.load(PATH)\n",
    "    \n",
    "    # Print results\n",
    "    pos_per_fold = []\n",
    "    for i in range(len(idv[0])):\n",
    "        print(f\"\\nFold {i}\")\n",
    "        positions = np.where(idv[0][i] == True)[0]\n",
    "        patients = [pos_to_subj[p] for p in positions]\n",
    "        print(tuple(patients))\n",
    "\n",
    "        pos_per_fold.append(positions)\n",
    "        \n",
    "    results = []\n",
    "    for i in range(len(pos_per_fold)):\n",
    "        pos, neg = np.sum(PATS_COUNTS[pos_per_fold[i]], axis=0)\n",
    "        results.append((pos, neg, pos+neg))\n",
    "\n",
    "    results = pd.DataFrame(results, columns=[\"pos\", \"neg\", \"total\"])\n",
    "    \n",
    "    for p in PERCENTAGES:\n",
    "        print(f\"{np.round(np.sum(PATS_COUNTS, axis=0) * p).astype(int)}\")\n",
    "\n",
    "    print(results)\n",
    "    \n",
    "    return results"
   ]
  },
  {
   "cell_type": "code",
   "execution_count": 34,
   "metadata": {},
   "outputs": [],
   "source": [
    "\n",
    "PATH_BASEL = f\"/Users/german/Desktop/RESULTS_FINAL_4/DATASET_BASEL/16_1.npy\"\n",
    "PATH_CHUV = f\"/Users/german/Desktop/RESULTS_FINAL_4/DATASET_CHUV/225.npy\"\n"
   ]
  },
  {
   "cell_type": "code",
   "execution_count": 29,
   "metadata": {},
   "outputs": [
    {
     "name": "stdout",
     "output_type": "stream",
     "text": [
      "[ 312 2716]\n",
      "\n",
      "Fold 0\n",
      "('063', '064', '065', '066', '067', '069', '075', '078', '080', '097', '099', '100', '108', '112', '114', '116', '120', '125', '131')\n",
      "\n",
      "Fold 1\n",
      "('057', '059', '060', '062', '072', '073', '081', '082', '092', '095', '098', '107', '110', '122', '124', '126', '129', '130', '132')\n",
      "\n",
      "Fold 2\n",
      "('068', '077', '079', '083', '084', '093', '096', '103', '109', '113', '115', '118')\n",
      "\n",
      "Fold 3\n",
      "('056', '058', '061', '070', '071', '074', '076', '085', '094', '101', '102', '104', '105', '106', '117', '121', '123', '127', '128')\n",
      "[ 78 679]\n",
      "[ 78 679]\n",
      "[ 78 679]\n",
      "[ 78 679]\n",
      "   pos  neg  total\n",
      "0   78  684    762\n",
      "1   78  682    760\n",
      "2   78  679    757\n",
      "3   78  671    749\n"
     ]
    }
   ],
   "source": [
    "\n",
    "results_basel = show_results(DATASET_BASEL_ID, PATH_BASEL)"
   ]
  },
  {
   "cell_type": "code",
   "execution_count": 30,
   "metadata": {},
   "outputs": [
    {
     "name": "stdout",
     "output_type": "stream",
     "text": [
      "[ 145 1971]\n",
      "\n",
      "Fold 0\n",
      "('011', '012', '016', '017', '021', '024', '028', '030', '032', '039', '041', '050', '053')\n",
      "\n",
      "Fold 1\n",
      "('003', '005', '010', '013', '014', '023', '027', '029', '044', '045', '047', '048', '052', '054', '055')\n",
      "\n",
      "Fold 2\n",
      "('001', '008', '015', '020', '022', '025', '031', '034', '035', '037', '040', '042', '043', '046')\n",
      "\n",
      "Fold 3\n",
      "('002', '004', '006', '007', '009', '018', '019', '026', '033', '036', '038', '049', '051')\n",
      "[ 36 493]\n",
      "[ 36 493]\n",
      "[ 36 493]\n",
      "[ 36 493]\n",
      "   pos  neg  total\n",
      "0   39  485    524\n",
      "1   35  495    530\n",
      "2   34  494    528\n",
      "3   37  497    534\n"
     ]
    }
   ],
   "source": [
    "\n",
    "results_chuv = show_results(DATASET_CHUV_ID, PATH_CHUV)"
   ]
  },
  {
   "cell_type": "code",
   "execution_count": 31,
   "metadata": {},
   "outputs": [],
   "source": [
    "# 0-0\n",
    "# 1-2\n",
    "# 2-1\n",
    "# 3-3\n",
    "\n",
    "aux = results_chuv.iloc[1].copy()\n",
    "results_chuv.iloc[1] = results_chuv.iloc[2]\n",
    "results_chuv.iloc[2] = aux"
   ]
  },
  {
   "cell_type": "code",
   "execution_count": 32,
   "metadata": {},
   "outputs": [
    {
     "data": {
      "text/html": [
       "<div>\n",
       "<style scoped>\n",
       "    .dataframe tbody tr th:only-of-type {\n",
       "        vertical-align: middle;\n",
       "    }\n",
       "\n",
       "    .dataframe tbody tr th {\n",
       "        vertical-align: top;\n",
       "    }\n",
       "\n",
       "    .dataframe thead th {\n",
       "        text-align: right;\n",
       "    }\n",
       "</style>\n",
       "<table border=\"1\" class=\"dataframe\">\n",
       "  <thead>\n",
       "    <tr style=\"text-align: right;\">\n",
       "      <th></th>\n",
       "      <th>pos</th>\n",
       "      <th>neg</th>\n",
       "      <th>total</th>\n",
       "    </tr>\n",
       "  </thead>\n",
       "  <tbody>\n",
       "    <tr>\n",
       "      <td>0</td>\n",
       "      <td>117</td>\n",
       "      <td>1169</td>\n",
       "      <td>1286</td>\n",
       "    </tr>\n",
       "    <tr>\n",
       "      <td>1</td>\n",
       "      <td>112</td>\n",
       "      <td>1176</td>\n",
       "      <td>1288</td>\n",
       "    </tr>\n",
       "    <tr>\n",
       "      <td>2</td>\n",
       "      <td>113</td>\n",
       "      <td>1174</td>\n",
       "      <td>1287</td>\n",
       "    </tr>\n",
       "    <tr>\n",
       "      <td>3</td>\n",
       "      <td>115</td>\n",
       "      <td>1168</td>\n",
       "      <td>1283</td>\n",
       "    </tr>\n",
       "  </tbody>\n",
       "</table>\n",
       "</div>"
      ],
      "text/plain": [
       "   pos   neg  total\n",
       "0  117  1169   1286\n",
       "1  112  1176   1288\n",
       "2  113  1174   1287\n",
       "3  115  1168   1283"
      ]
     },
     "execution_count": 32,
     "metadata": {},
     "output_type": "execute_result"
    }
   ],
   "source": [
    "results_chuv + results_basel"
   ]
  },
  {
   "cell_type": "code",
   "execution_count": null,
   "metadata": {},
   "outputs": [],
   "source": []
  }
 ],
 "metadata": {
  "kernelspec": {
   "display_name": "Python 3",
   "language": "python",
   "name": "python3"
  },
  "language_info": {
   "codemirror_mode": {
    "name": "ipython",
    "version": 3
   },
   "file_extension": ".py",
   "mimetype": "text/x-python",
   "name": "python",
   "nbconvert_exporter": "python",
   "pygments_lexer": "ipython3",
   "version": "3.6.7"
  }
 },
 "nbformat": 4,
 "nbformat_minor": 2
}
