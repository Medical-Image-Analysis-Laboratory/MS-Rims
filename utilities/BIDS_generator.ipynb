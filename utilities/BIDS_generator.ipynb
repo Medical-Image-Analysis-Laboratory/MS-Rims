{
 "cells": [
  {
   "cell_type": "markdown",
   "metadata": {},
   "source": [
    "# Move from OLD to BIDs structure\n",
    "Need to specify the origin filenames and the destination filenames."
   ]
  },
  {
   "cell_type": "code",
   "execution_count": 3,
   "metadata": {},
   "outputs": [],
   "source": [
    "#IMPORTS\n",
    "import os\n",
    "from tqdm import tqdm\n",
    "from shutil import copyfile"
   ]
  },
  {
   "cell_type": "code",
   "execution_count": 4,
   "metadata": {},
   "outputs": [],
   "source": [
    "OLD_DATA_PATH = \"/media/german/DATA/msrims/data/\"\n",
    "NEW_DATA_PATH = \"/media/german/DATA/msrims/bids/\"\n",
    "\n",
    "# ORIGINAL\n",
    "filenames = (\"T2star_fixed.nii.gz\", \"flair_original.nii.gz\", \"FLAIRstar.nii.gz\", \"phase.nii.gz\", \"mp2rage.nii.gz\")#, \"qsm_EPI_ph.json\", \"qsm_EPI_ph.nii.gz\")\n",
    "filenames_to = (\"acq-mag_T2star.nii.gz\", \"FLAIR.nii.gz\", \"acq-star_FLAIR.nii.gz\", \"acq-phase_T2star.nii.gz\", \"acq-MP2RAGEuni_T1map.nii.gz\")#, \"acq-QSM_T2star.json\", \"acq-QSM_T2star.nii.gz\")\n",
    "#filenames_ignore = (\"T2star.nii.gz\", \"FLAIR_ce-star.nii.gz\", \"T2star_phase.nii.gz\", \"T1map_ce-MP2RAGE.nii.gz\", \"QSM.json\", \"QSM.nii.gz\")\n",
    "\n",
    "# DERIVATIVES\n",
    "all_der_titles = [\"mask_predictions_rimnet_v1\", \"rims_annotations\", \"registrations_to_T2star\"]\n",
    "all_der_filenames = [(\"maskPredictions.nii.gz\", ), (\"maskLesions.nii.gz\", ), (\"flair_original_REG.nii.gz\", \"mp2rage_REG.nii.gz\")]\n",
    "all_der_filenames_to = [(\"mask-predictions_rimnet-v1.nii.gz\", ), (\"mask.nii.gz\", ), (\"FLAIR_REG.nii.gz\", \"acq-MP2RAGEuni_T1map_REG.nii.gz\")]"
   ]
  },
  {
   "cell_type": "code",
   "execution_count": 7,
   "metadata": {},
   "outputs": [],
   "source": [
    "OLD_DATA_PATH = \"/media/german/Germs_DATA/T1maps/\"\n",
    "NEW_DATA_PATH = \"/media/german/Germs_DATA/bids/\"\n",
    "\n",
    "# ORIGINAL\n",
    "filenames = [\"T1map.nii.gz\", ]\n",
    "filenames_to = [\"acq-MP2RAGE_T1map.nii.gz\", ]\n",
    "\n",
    "# DERIVATIVES\n",
    "all_der_titles = []#\"expert_annotations\", ]\n",
    "all_der_filenames = []#(\"rims_on_T1.nii.gz\", ), ]\n",
    "all_der_filenames_to = []#(\"expertsannotations.nii.gz\", ), ]"
   ]
  },
  {
   "cell_type": "code",
   "execution_count": 8,
   "metadata": {
    "scrolled": true
   },
   "outputs": [
    {
     "name": "stderr",
     "output_type": "stream",
     "text": [
      "100%|██████████| 68/68 [00:03<00:00, 18.94it/s]\n"
     ]
    }
   ],
   "source": [
    "TO_REPLACE = False\n",
    "datasets = (list(range(1, 56)), \n",
    "            list(range(56, 86)) + list(range(92, 111)) + list(range(112, 119)) + list(range(120, 133)),\n",
    "           list(range(86, 91)))\n",
    "datasets_names = (\"CHUV_RIM\", \"BASEL_INSIDER\", \"BRUSSELS_RIM\")\n",
    "        \n",
    "# BIDSIGNORE\n",
    "\"\"\"\n",
    "if not os.path.exists(NEW_DATA_PATH):\n",
    "        os.makedirs(NEW_DATA_PATH)\n",
    "with open(os.path.join(NEW_DATA_PATH, \".bidsignore\"), \"w+\") as bignore:\n",
    "    for to_ignore in filenames_ignore:\n",
    "        bignore.write(\"*\" + to_ignore+\"\\n\")\n",
    "\"\"\"\n",
    "\n",
    "# Creating fold structure\n",
    "for folder in tqdm(next(os.walk(OLD_DATA_PATH))[1]):\n",
    "    patient_id = int(folder.split('/')[-1])\n",
    "    dataset = None\n",
    "    for i in range(len(datasets)):\n",
    "        if patient_id in datasets[i]:\n",
    "            dataset = datasets_names[i]\n",
    "            break\n",
    "    if dataset is None:\n",
    "        print(f\"Patient {patient_id} skipped\")\n",
    "        continue\n",
    "    \n",
    "    # TOP FOLDER\n",
    "    database_folder = os.path.join(NEW_DATA_PATH, dataset)\n",
    "    source_folder = os.path.join(database_folder, f\"sub-{patient_id:03d}/ses-01/anat\")\n",
    "    if not os.path.exists(source_folder):\n",
    "        os.makedirs(source_folder)\n",
    "\n",
    "    for filename, filename_to in zip(filenames, filenames_to):\n",
    "        origin = os.path.join(os.path.join(OLD_DATA_PATH, folder), filename)\n",
    "        to = os.path.join(source_folder, f\"sub-{patient_id:03d}_ses-01_\" + filename_to)\n",
    "        #print(origin)\n",
    "        if os.path.exists(origin) and (not os.path.exists(to) or TO_REPLACE):\n",
    "            copyfile(origin, to)\n",
    "        \n",
    "    # CODE FOLDER\n",
    "    source_folder = os.path.join(database_folder, f\"code\")\n",
    "    if not os.path.exists(source_folder):\n",
    "        os.makedirs(source_folder)\n",
    "        \n",
    "    # DERIVATIVE FOLDER\n",
    "    for der_title, der_filenames, der_filenames_to in zip(all_der_titles, all_der_filenames, all_der_filenames_to):\n",
    "        derivative_folder = os.path.join(database_folder, f\"derivatives/{der_title}/sub-{patient_id:03d}/ses-01\")\n",
    "        if not os.path.exists(derivative_folder):\n",
    "            os.makedirs(derivative_folder)\n",
    "\n",
    "        for der_filename, der_filename_to in zip(der_filenames, der_filenames_to):\n",
    "            origin = os.path.join(os.path.join(OLD_DATA_PATH, folder), der_filename)\n",
    "            to = os.path.join(derivative_folder,  f\"sub-{patient_id:03d}_ses-01_\" + der_filename_to)\n",
    "            if os.path.exists(origin) and (not os.path.exists(to) or TO_REPLACE):\n",
    "                copyfile(origin, to)\n",
    "    "
   ]
  },
  {
   "cell_type": "code",
   "execution_count": null,
   "metadata": {},
   "outputs": [],
   "source": []
  },
  {
   "cell_type": "code",
   "execution_count": null,
   "metadata": {},
   "outputs": [],
   "source": []
  },
  {
   "cell_type": "code",
   "execution_count": null,
   "metadata": {},
   "outputs": [],
   "source": []
  }
 ],
 "metadata": {
  "kernelspec": {
   "display_name": "Python 3",
   "language": "python",
   "name": "python3"
  },
  "language_info": {
   "codemirror_mode": {
    "name": "ipython",
    "version": 3
   },
   "file_extension": ".py",
   "mimetype": "text/x-python",
   "name": "python",
   "nbconvert_exporter": "python",
   "pygments_lexer": "ipython3",
   "version": "3.8.1"
  }
 },
 "nbformat": 4,
 "nbformat_minor": 4
}
