{
 "cells": [
  {
   "cell_type": "code",
   "execution_count": 1,
   "metadata": {},
   "outputs": [
    {
     "name": "stdout",
     "output_type": "stream",
     "text": [
      "Loading configuration...\n",
      "Configuration loaded successfully!\n",
      "_____________________________\n",
      "\n"
     ]
    }
   ],
   "source": [
    "import sys\n",
    "sys.path.append('..')\n",
    "from utils import validate_BIDS"
   ]
  },
  {
   "cell_type": "code",
   "execution_count": 2,
   "metadata": {},
   "outputs": [
    {
     "name": "stdout",
     "output_type": "stream",
     "text": [
      "BIDS Layout: ...n/Bureau/DATASET/BASEL_INSIDER | Subjects: 69 | Sessions: 69 | Runs: 0\n",
      "MPRAGE - Missing 69/69\n",
      "EXPERTS_ANNOTATIONS - Missing 22/69\n",
      "[STATUS] incompleted\n",
      "\n",
      "BIDS Layout: ...german/Bureau/DATASET/CHUV_RIM | Subjects: 55 | Sessions: 55 | Runs: 0\n",
      "MP2RAGE_UNI - Missing 55/55\n",
      "MP2RAGE_T1MAP - Missing 55/55\n",
      "PMAP - Missing 55/55\n",
      "EXPERTS_ANNOTATIONS - Missing 28/55\n",
      "[STATUS] incompleted\n",
      "\n",
      "BIDS Layout: ...e/german/Bureau/DATASET/NIH_7T | Subjects: 20 | Sessions: 20 | Runs: 0\n",
      "MASK - Missing 20/20\n",
      "SEGMENTATION - Missing 20/20\n",
      "T2STAR_PHASE - Missing 20/20\n",
      "T2STAR_MAG - Missing 20/20\n",
      "FLAIRSTAR - Missing 20/20\n",
      "FLAIR - Missing 20/20\n",
      "MPRAGE - Missing 20/20\n",
      "MP2RAGE_UNI - Missing 20/20\n",
      "MP2RAGE_T1MAP - Missing 20/20\n",
      "PMAP - Missing 20/20\n",
      "EXPERTS_ANNOTATIONS - Missing 1/20\n",
      "[STATUS] incompleted\n",
      "\n"
     ]
    }
   ],
   "source": [
    "validate_BIDS(False)"
   ]
  },
  {
   "cell_type": "code",
   "execution_count": null,
   "metadata": {},
   "outputs": [],
   "source": []
  }
 ],
 "metadata": {
  "kernelspec": {
   "display_name": "Python 3",
   "language": "python",
   "name": "python3"
  },
  "language_info": {
   "codemirror_mode": {
    "name": "ipython",
    "version": 3
   },
   "file_extension": ".py",
   "mimetype": "text/x-python",
   "name": "python",
   "nbconvert_exporter": "python",
   "pygments_lexer": "ipython3",
   "version": "3.8.1"
  }
 },
 "nbformat": 4,
 "nbformat_minor": 4
}
