{
 "cells": [
  {
   "cell_type": "markdown",
   "metadata": {},
   "source": [
    "# GT generator\n",
    "\n",
    "This notebook does the match between the automatic segmentation and the rim+ slices annotated by the experts.\n",
    "\n",
    "Result is a mask with an ID for each lesion **(1XXX for rim+ lesions, 2XXX for rim- lesions)**."
   ]
  },
  {
   "cell_type": "code",
   "execution_count": 1,
   "metadata": {},
   "outputs": [
    {
     "name": "stdout",
     "output_type": "stream",
     "text": [
      "Loading configuration...\n",
      "Configuration loaded successfully!\n",
      "_____________________________\n",
      "\n"
     ]
    }
   ],
   "source": [
    "import os\n",
    "import numpy as np\n",
    "from nibabel import load as load_nii\n",
    "import nibabel as nib\n",
    "from scipy import ndimage\n",
    "from scipy.ndimage.morphology import generate_binary_structure as gbs\n",
    "from scipy.ndimage.measurements import label\n",
    "import matplotlib.pyplot as plt\n",
    "%matplotlib inline\n",
    "\n",
    "import sys\n",
    "from tqdm import tqdm\n",
    "sys.path.append(\"..\")\n",
    "from config import *\n",
    "from utils import generate_BIDS_path\n",
    "import pandas as pd"
   ]
  },
  {
   "cell_type": "code",
   "execution_count": 16,
   "metadata": {
    "scrolled": true
   },
   "outputs": [
    {
     "name": "stdout",
     "output_type": "stream",
     "text": [
      "> CASE 001\n"
     ]
    },
    {
     "name": "stderr",
     "output_type": "stream",
     "text": [
      "100%|██████████| 1/1 [00:00<00:00,  2.38it/s]\n"
     ]
    },
    {
     "name": "stdout",
     "output_type": "stream",
     "text": [
      "SUCCESSFULLY SAVED!\n",
      "> CASE 002\n"
     ]
    },
    {
     "name": "stderr",
     "output_type": "stream",
     "text": [
      "100%|██████████| 3/3 [00:01<00:00,  2.40it/s]\n"
     ]
    },
    {
     "name": "stdout",
     "output_type": "stream",
     "text": [
      "[WARNING] Rims [1, 2, 3] are confluent.\n",
      "NOT SAVED\n",
      "> CASE 003\n"
     ]
    },
    {
     "name": "stderr",
     "output_type": "stream",
     "text": [
      "100%|██████████| 22/22 [00:09<00:00,  2.39it/s]\n"
     ]
    },
    {
     "name": "stdout",
     "output_type": "stream",
     "text": [
      "[WARNING] Rim 22 is not segmented.\n",
      "[WARNING] Rims [5, 12] are confluent.\n",
      "[WARNING] Rims [8, 14] are confluent.\n",
      "[WARNING] Rims [17, 21] are confluent.\n",
      "NOT SAVED\n",
      "> CASE 004\n"
     ]
    },
    {
     "name": "stderr",
     "output_type": "stream",
     "text": [
      "100%|██████████| 6/6 [00:02<00:00,  2.38it/s]\n"
     ]
    },
    {
     "name": "stdout",
     "output_type": "stream",
     "text": [
      "[WARNING] Rims [1, 2, 3] are confluent.\n",
      "[WARNING] Rims [4, 6] are confluent.\n",
      "NOT SAVED\n",
      "> CASE 005\n"
     ]
    },
    {
     "name": "stderr",
     "output_type": "stream",
     "text": [
      "100%|██████████| 11/11 [00:04<00:00,  2.33it/s]\n"
     ]
    },
    {
     "name": "stdout",
     "output_type": "stream",
     "text": [
      "[WARNING] Rims [1, 2] are confluent.\n",
      "[WARNING] Rims [4, 5, 6, 7, 8] are confluent.\n",
      "NOT SAVED\n",
      "> CASE 006\n"
     ]
    },
    {
     "name": "stderr",
     "output_type": "stream",
     "text": [
      "100%|██████████| 12/12 [00:04<00:00,  2.41it/s]\n"
     ]
    },
    {
     "name": "stdout",
     "output_type": "stream",
     "text": [
      "[WARNING] Rims [1, 3, 6] are confluent.\n",
      "[WARNING] Rims [9, 10, 11] are confluent.\n",
      "NOT SAVED\n",
      "> CASE 007\n"
     ]
    },
    {
     "name": "stderr",
     "output_type": "stream",
     "text": [
      "100%|██████████| 4/4 [00:01<00:00,  2.40it/s]\n"
     ]
    },
    {
     "name": "stdout",
     "output_type": "stream",
     "text": [
      "SUCCESSFULLY SAVED!\n",
      "> CASE 008\n"
     ]
    },
    {
     "name": "stderr",
     "output_type": "stream",
     "text": [
      "100%|██████████| 5/5 [00:02<00:00,  2.48it/s]\n"
     ]
    },
    {
     "name": "stdout",
     "output_type": "stream",
     "text": [
      "[WARNING] Rims [1, 2, 3, 4, 5] are confluent.\n",
      "NOT SAVED\n",
      "> CASE 009\n"
     ]
    },
    {
     "name": "stderr",
     "output_type": "stream",
     "text": [
      "100%|██████████| 5/5 [00:02<00:00,  2.46it/s]\n"
     ]
    },
    {
     "name": "stdout",
     "output_type": "stream",
     "text": [
      "[WARNING] Rims [1, 2, 3] are confluent.\n",
      "NOT SAVED\n",
      "> CASE 010\n"
     ]
    },
    {
     "name": "stderr",
     "output_type": "stream",
     "text": [
      "100%|██████████| 1/1 [00:00<00:00,  2.38it/s]\n"
     ]
    },
    {
     "name": "stdout",
     "output_type": "stream",
     "text": [
      "SUCCESSFULLY SAVED!\n",
      "> CASE 011\n"
     ]
    },
    {
     "name": "stderr",
     "output_type": "stream",
     "text": [
      "100%|██████████| 4/4 [00:01<00:00,  2.39it/s]\n"
     ]
    },
    {
     "name": "stdout",
     "output_type": "stream",
     "text": [
      "[WARNING] Rims [1, 2] are confluent.\n",
      "[WARNING] Rims [3, 4] are confluent.\n",
      "NOT SAVED\n",
      "> CASE 012\n"
     ]
    },
    {
     "name": "stderr",
     "output_type": "stream",
     "text": [
      "100%|██████████| 9/9 [00:03<00:00,  2.41it/s]\n"
     ]
    },
    {
     "name": "stdout",
     "output_type": "stream",
     "text": [
      "[WARNING] Rims [2, 3] are confluent.\n",
      "[WARNING] Rims [5, 6, 7, 8] are confluent.\n",
      "NOT SAVED\n",
      "> CASE 013\n"
     ]
    },
    {
     "name": "stderr",
     "output_type": "stream",
     "text": [
      "100%|██████████| 27/27 [00:11<00:00,  2.42it/s]\n"
     ]
    },
    {
     "name": "stdout",
     "output_type": "stream",
     "text": [
      "[WARNING] Rims [1, 7, 11, 14] are confluent.\n",
      "[WARNING] Rims [2, 3, 4, 6, 8, 9, 10, 12, 13] are confluent.\n",
      "[WARNING] Rims [15, 18] are confluent.\n",
      "[WARNING] Rims [16, 17, 20, 21, 22, 23, 24, 25] are confluent.\n",
      "NOT SAVED\n",
      "> CASE 014\n"
     ]
    },
    {
     "name": "stderr",
     "output_type": "stream",
     "text": [
      "100%|██████████| 41/41 [00:17<00:00,  2.39it/s]\n"
     ]
    },
    {
     "name": "stdout",
     "output_type": "stream",
     "text": [
      "[WARNING] Rims [4, 6, 7, 8, 9, 10, 12, 13, 14, 15, 17] are confluent.\n",
      "[WARNING] Rims [21, 22, 24, 27, 28, 29, 30, 31, 32, 33, 34, 35, 36, 37, 38] are confluent.\n",
      "NOT SAVED\n",
      "> CASE 015\n"
     ]
    },
    {
     "name": "stderr",
     "output_type": "stream",
     "text": [
      "100%|██████████| 21/21 [00:08<00:00,  2.43it/s]\n"
     ]
    },
    {
     "name": "stdout",
     "output_type": "stream",
     "text": [
      "[WARNING] Rims [2, 6] are confluent.\n",
      "[WARNING] Rims [8, 9, 11] are confluent.\n",
      "[WARNING] Rims [10, 13] are confluent.\n",
      "[WARNING] Rims [14, 20, 21] are confluent.\n",
      "[WARNING] Rims [18, 19] are confluent.\n",
      "NOT SAVED\n",
      "> CASE 016\n"
     ]
    },
    {
     "name": "stderr",
     "output_type": "stream",
     "text": [
      "100%|██████████| 3/3 [00:01<00:00,  2.38it/s]\n"
     ]
    },
    {
     "name": "stdout",
     "output_type": "stream",
     "text": [
      "SUCCESSFULLY SAVED!\n",
      "> CASE 017\n"
     ]
    },
    {
     "name": "stderr",
     "output_type": "stream",
     "text": [
      "100%|██████████| 8/8 [00:03<00:00,  2.41it/s]\n"
     ]
    },
    {
     "name": "stdout",
     "output_type": "stream",
     "text": [
      "[WARNING] Rims [1, 3] are confluent.\n",
      "[WARNING] Rims [5, 8] are confluent.\n",
      "[WARNING] Rims [6, 7] are confluent.\n",
      "NOT SAVED\n",
      "> CASE 018\n"
     ]
    },
    {
     "name": "stderr",
     "output_type": "stream",
     "text": [
      "100%|██████████| 18/18 [00:07<00:00,  2.40it/s]\n"
     ]
    },
    {
     "name": "stdout",
     "output_type": "stream",
     "text": [
      "[WARNING] Rims [1, 2, 3, 4, 5, 7] are confluent.\n",
      "[WARNING] Rims [9, 10, 11, 12, 14, 16, 17, 18] are confluent.\n",
      "NOT SAVED\n",
      "> CASE 019\n"
     ]
    },
    {
     "name": "stderr",
     "output_type": "stream",
     "text": [
      "100%|██████████| 4/4 [00:01<00:00,  2.41it/s]\n"
     ]
    },
    {
     "name": "stdout",
     "output_type": "stream",
     "text": [
      "SUCCESSFULLY SAVED!\n",
      "> CASE 020\n"
     ]
    },
    {
     "name": "stderr",
     "output_type": "stream",
     "text": [
      "100%|██████████| 7/7 [00:02<00:00,  2.41it/s]"
     ]
    },
    {
     "name": "stdout",
     "output_type": "stream",
     "text": [
      "[WARNING] Rims [1, 2, 3, 4] are confluent.\n",
      "NOT SAVED\n"
     ]
    },
    {
     "name": "stderr",
     "output_type": "stream",
     "text": [
      "\n"
     ]
    }
   ],
   "source": [
    "dataset_id = DATASET_NIH7T_ID\n",
    "\n",
    "dataset = AVAILABLE_DATASETS[dataset_id]\n",
    "results = []\n",
    "for pat in dataset.get_subjects():\n",
    "    annotations_paths = dataset.get(return_type=\"filename\", subject=pat, **CONTRASTS[\"EXPERTS_ANNOTATIONS\"])\n",
    "    segmentation_paths = dataset.get(return_type=\"filename\", subject=pat, **CONTRASTS[\"SEGMENTATION\"])\n",
    "    \n",
    "    if len(segmentation_paths) == 0:\n",
    "        print(f\"[{pat}] - Segmentation missing.\")\n",
    "        continue\n",
    "        \n",
    "    m_image = nib.load(segmentation_paths[0]) #lesion mask in flair* space\n",
    "    gt = m_image.get_fdata()\n",
    "    orientation=m_image.affine\n",
    "\n",
    "    labeled_mask, num_les = ndimage.label(gt)\n",
    "    labels = list(np.unique(labeled_mask)[1:])\n",
    "    a = np.zeros_like(gt).astype('int16')\n",
    "    rim_dic = {}\n",
    "    messages = []\n",
    "\n",
    "    # DEBUGGING\n",
    "    print(f\"> CASE {pat}\")\n",
    "\n",
    "    if len(annotations_paths) == 1:\n",
    "        # we try to match\n",
    "        m_image = nib.load(annotations_paths[0]) #rims annotations\n",
    "        gt_rim = m_image.get_fdata()\n",
    "        count_r = 0\n",
    "\n",
    "        gt[gt>0]=1\n",
    "        #gt_rim[gt_rim>0]=1\n",
    "        lab_r, rims= ndimage.label(gt_rim, structure = gbs(3,2))\n",
    "        \n",
    "        # save the mask with the IDs to easily check after\n",
    "        nifti_out = nib.Nifti1Image(lab_r, affine=m_image.affine)\n",
    "        nifti_out.to_filename(annotations_paths[0].replace(\".nii.gz\", \"UIDs.nii.gz\"))   #Output Mask\n",
    "        \n",
    "        rims_ids = np.unique(lab_r)[1:]\n",
    "        #rims_ids = np.unique(gt_rim)[1:]\n",
    "\n",
    "        for rim_id in tqdm(rims_ids):\n",
    "            #one_lesion = np.zeros_like(labeled_mask)\n",
    "            coincidences = list(np.unique(((lab_r == rim_id).astype(int) * labeled_mask)))\n",
    "            if 0 in coincidences:\n",
    "                coincidences.remove(0)\n",
    "\n",
    "            if len(coincidences) == 0:\n",
    "                messages.append(f\"[WARNING] Rim {rim_id} is not segmented.\")\n",
    "                results.append((pat, rim_id, \"Not segmented\", None))\n",
    "            elif len(coincidences) > 1:\n",
    "                messages.append(f\"[WARNING] Rim {rim_id} intersects with more than one independent lesion segmentations.\")\n",
    "                results.append((pat, rim_id, \"> 1 coincidences\", None))\n",
    "            else:\n",
    "                if coincidences[0] not in rim_dic.keys():\n",
    "                    rim_dic[coincidences[0]] = []\n",
    "                rim_dic[coincidences[0]].append(rim_id)\n",
    "            #mean = np.sum(aux) / np.sum((aux > 0).astype(int))\n",
    "            #print(aux)\n",
    "        successful = True\n",
    "        for message in messages:\n",
    "            print(message)\n",
    "            successful = False\n",
    "        for key in rim_dic.keys():\n",
    "            if len(rim_dic[key]) > 1:\n",
    "                print(f\"[WARNING] Rims {rim_dic[key]} are confluent.\")\n",
    "                for ins_r_id in rim_dic[key]:\n",
    "                    results.append((pat, ins_r_id, \"Confluent\", rim_dic[key]))\n",
    "                successful = False\n",
    "            else:\n",
    "                results.append((pat, rim_id, \"Ok\"))\n",
    "    else:\n",
    "        print(f\"[{pat}] - Annotation missing => No rim+ lesions considered.\")\n",
    "        # no rim+ => no matches possible\n",
    "        successful = True\n",
    "        rims_ids = []\n",
    "\n",
    "    if successful:\n",
    "        count_r = 0\n",
    "        for key in rim_dic.keys():\n",
    "            count_r += 1\n",
    "            a[labeled_mask == key] = 1000 + rim_dic[key][0]\n",
    "            labels.remove(key)\n",
    "        # remaining are non rim\n",
    "        counter = 0\n",
    "        for key in labels:\n",
    "            a[labeled_mask == key] = 2000 + counter\n",
    "            counter += 1\n",
    "\n",
    "        assert count_r == len(rims_ids)\n",
    "        #print(np.unique(a))\n",
    "\n",
    "        output_path = generate_BIDS_path(dataset_id, subject=pat, **CONTRASTS[\"MASK\"])\n",
    "        nifti_out = nib.Nifti1Image(a, affine=orientation)\n",
    "        nifti_out.to_filename(output_path)   #Output Mask\n",
    "\n",
    "        print(\"SUCCESSFULLY SAVED!\")\n",
    "    else:\n",
    "        print(\"NOT SAVED\")\n"
   ]
  },
  {
   "cell_type": "code",
   "execution_count": null,
   "metadata": {},
   "outputs": [],
   "source": []
  },
  {
   "cell_type": "markdown",
   "metadata": {},
   "source": [
    "# 7T matching results"
   ]
  },
  {
   "cell_type": "code",
   "execution_count": 17,
   "metadata": {},
   "outputs": [],
   "source": [
    "df = pd.DataFrame(data=results, columns=[\"patient\", \"lesion\", \"status\", \"comments\"])"
   ]
  },
  {
   "cell_type": "code",
   "execution_count": 18,
   "metadata": {},
   "outputs": [
    {
     "data": {
      "image/png": "[encoded data removed]",
      "text/plain": [
       "<Figure size 432x288 with 1 Axes>"
      ]
     },
     "metadata": {},
     "output_type": "display_data"
    }
   ],
   "source": [
    "import seaborn as sns\n",
    "import pandas as pd\n",
    "import matplotlib.pyplot as plt\n",
    "\n",
    "CMAPS = {}\n",
    "CMAPS[\"redish\"] = (\"#6B3231\", \"#DB565D\", \"#FACCAD\", \"#FCFAF1\")\n",
    "sns.set_palette(sns.color_palette(CMAPS[\"redish\"]))\n",
    "sns.set_style(\"darkgrid\")\n",
    "\n",
    "SMALL_SIZE = 12\n",
    "MEDIUM_SIZE = 14\n",
    "BIGGER_SIZE = 16\n",
    "\n",
    "plt.rc('font', size=SMALL_SIZE)          # controls default text sizes\n",
    "plt.rc('axes', titlesize=MEDIUM_SIZE)     # fontsize of the axes title\n",
    "plt.rc('axes', labelsize=MEDIUM_SIZE)    # fontsize of the x and y labels\n",
    "plt.rc('xtick', labelsize=SMALL_SIZE)    # fontsize of the tick labels\n",
    "plt.rc('ytick', labelsize=SMALL_SIZE)    # fontsize of the tick labels\n",
    "plt.rc('legend', fontsize=SMALL_SIZE)    # legend fontsize\n",
    "plt.rc('figure', titlesize=BIGGER_SIZE) \n",
    "\n",
    "#df = pd.read_csv(\"NIH_GT.csv\")\n",
    "df[\"status\"] = df[\"status\"].apply(lambda r: \">1 matches\" if r == \"> 1 coincidences\" else r)\n",
    "df[\"status\"] = df[\"status\"].apply(lambda r: \"No match\" if r == \"Not segmented\" else r)\n",
    "df[\"status\"] = df[\"status\"].apply(lambda r: \"Match\" if r == \"Ok\" else r)\n",
    "ax = sns.countplot(data=df, x=\"status\")\n",
    "max_heigh = max([p.get_height() for p in ax.patches])\n",
    "for p in ax.patches:\n",
    "    height = p.get_height()\n",
    "    ax.text(p.get_x()+p.get_width()/2.,\n",
    "            height + 0.03 * max_heigh,\n",
    "            '{:d}'.format(int(height)),\n",
    "            ha=\"center\", fontsize=12, fontweight='bold') \n",
    "plt.title(\"Results of matching:   Segmentation <--> GT\")\n",
    "plt.ylim((0,230))\n",
    "plt.yticks(range(0,230,20))\n",
    "plt.savefig(\"NIH_GT.pdf\")\n",
    "pass\n",
    "#df.to_csv(\"NIH_GT_3TSEGM.csv\")"
   ]
  },
  {
   "cell_type": "code",
   "execution_count": 14,
   "metadata": {},
   "outputs": [
    {
     "name": "stdout",
     "output_type": "stream",
     "text": [
      "4\n",
      "108\n"
     ]
    }
   ],
   "source": [
    "print(len(df[df[\"status\"] == \"Confluent\"].index))\n",
    "print(len(df[df[\"status\"] == \"Not segmented\"].index))\n",
    "print(len(df[df[\"status\"] == \">1 coincidences\"].index))\n",
    "print(len(df[df[\"status\"] == \"Not segmented\"].index))"
   ]
  },
  {
   "cell_type": "code",
   "execution_count": null,
   "metadata": {},
   "outputs": [],
   "source": []
  }
 ],
 "metadata": {
  "kernelspec": {
   "display_name": "Python 3",
   "language": "python",
   "name": "python3"
  },
  "language_info": {
   "codemirror_mode": {
    "name": "ipython",
    "version": 3
   },
   "file_extension": ".py",
   "mimetype": "text/x-python",
   "name": "python",
   "nbconvert_exporter": "python",
   "pygments_lexer": "ipython3",
   "version": "3.6.7"
  }
 },
 "nbformat": 4,
 "nbformat_minor": 4
}
