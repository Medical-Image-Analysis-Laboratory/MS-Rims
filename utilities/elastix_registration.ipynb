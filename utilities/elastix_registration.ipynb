{
 "cells": [
  {
   "cell_type": "markdown",
   "metadata": {},
   "source": [
    "# Some general registrations"
   ]
  },
  {
   "cell_type": "code",
   "execution_count": 6,
   "metadata": {},
   "outputs": [],
   "source": [
    "import SimpleITK as sitk\n",
    "import os\n",
    "from tqdm import tqdm\n",
    "import sys\n",
    "sys.path.append(\"..\")\n",
    "from config import *\n",
    "from utils import generate_BIDS_path"
   ]
  },
  {
   "cell_type": "code",
   "execution_count": 2,
   "metadata": {},
   "outputs": [
    {
     "ename": "KeyError",
     "evalue": "'FLAIR_ORIGINAL'",
     "output_type": "error",
     "traceback": [
      "\u001b[0;31m---------------------------------------------------------------------------\u001b[0m",
      "\u001b[0;31mKeyError\u001b[0m                                  Traceback (most recent call last)",
      "\u001b[0;32m<ipython-input-2-afaa844e6401>\u001b[0m in \u001b[0;36m<module>\u001b[0;34m\u001b[0m\n\u001b[0;32m----> 1\u001b[0;31m \u001b[0mTO_REGISTER\u001b[0m \u001b[0;34m=\u001b[0m \u001b[0mCONTRASTS\u001b[0m\u001b[0;34m[\u001b[0m\u001b[0;34m\"FLAIR_ORIGINAL\"\u001b[0m\u001b[0;34m]\u001b[0m\u001b[0;34m\u001b[0m\u001b[0;34m\u001b[0m\u001b[0m\n\u001b[0m\u001b[1;32m      2\u001b[0m \u001b[0mREGISTERED\u001b[0m \u001b[0;34m=\u001b[0m \u001b[0;34m{\u001b[0m \u001b[0;34m\"acquisition\"\u001b[0m\u001b[0;34m:\u001b[0m \u001b[0;32mNone\u001b[0m\u001b[0;34m,\u001b[0m \u001b[0;34m\"suffix\"\u001b[0m\u001b[0;34m:\u001b[0m \u001b[0;34m\"FLAIR_2\"\u001b[0m\u001b[0;34m,\u001b[0m \u001b[0;34m\"scope\"\u001b[0m\u001b[0;34m:\u001b[0m \u001b[0;34m\"segmentation_probability_maps\"\u001b[0m\u001b[0;34m,\u001b[0m \u001b[0;34m\"extension\"\u001b[0m\u001b[0;34m:\u001b[0m \u001b[0;34m\"nii.gz\"\u001b[0m\u001b[0;34m}\u001b[0m\u001b[0;34m\u001b[0m\u001b[0;34m\u001b[0m\u001b[0m\n\u001b[1;32m      3\u001b[0m \u001b[0mINTERPOLATION_ORDER\u001b[0m \u001b[0;34m=\u001b[0m \u001b[0;36m3\u001b[0m\u001b[0;34m\u001b[0m\u001b[0;34m\u001b[0m\u001b[0m\n\u001b[1;32m      4\u001b[0m \u001b[0;34m\u001b[0m\u001b[0m\n\u001b[1;32m      5\u001b[0m \u001b[0mTO_REGISTER_EXTRA\u001b[0m \u001b[0;34m=\u001b[0m \u001b[0;34m(\u001b[0m\u001b[0;34m{\u001b[0m \u001b[0;34m\"acquisition\"\u001b[0m\u001b[0;34m:\u001b[0m \u001b[0;32mNone\u001b[0m\u001b[0;34m,\u001b[0m \u001b[0;34m\"suffix\"\u001b[0m\u001b[0;34m:\u001b[0m \u001b[0;34m\"probabilitiesmap\"\u001b[0m\u001b[0;34m,\u001b[0m \u001b[0;34m\"scope\"\u001b[0m\u001b[0;34m:\u001b[0m \u001b[0;34m\"segmentation_probability_maps\"\u001b[0m\u001b[0;34m,\u001b[0m \u001b[0;34m\"extension\"\u001b[0m\u001b[0;34m:\u001b[0m \u001b[0;34m\"nii.gz\"\u001b[0m \u001b[0;34m}\u001b[0m\u001b[0;34m,\u001b[0m \u001b[0;34m)\u001b[0m\u001b[0;34m\u001b[0m\u001b[0;34m\u001b[0m\u001b[0m\n",
      "\u001b[0;31mKeyError\u001b[0m: 'FLAIR_ORIGINAL'"
     ]
    }
   ],
   "source": [
    "TO_REGISTER = CONTRASTS[\"FLAIR_ORIGINAL\"]\n",
    "REGISTERED = { \"acquisition\": None, \"suffix\": \"FLAIR_2\", \"scope\": \"segmentation_probability_maps\", \"extension\": \"nii.gz\"}\n",
    "INTERPOLATION_ORDER = 3\n",
    "\n",
    "TO_REGISTER_EXTRA = ({ \"acquisition\": None, \"suffix\": \"probabilitiesmap\", \"scope\": \"segmentation_probability_maps\", \"extension\": \"nii.gz\" }, )\n",
    "REGISTERED_EXTRA = (CONTRASTS[\"PMAP\"], )\n",
    "INTERPOLATION_ORDERS = (3, )\n",
    "\n",
    "REGISTRATION_SPACE = CONTRASTS[\"FLAIR\"]\n",
    "TO_REPLACE = False"
   ]
  },
  {
   "cell_type": "code",
   "execution_count": 3,
   "metadata": {},
   "outputs": [],
   "source": [
    "TO_REGISTER = CONTRASTS[\"3T_MP2RAGE_UNI\"]\n",
    "REGISTERED = CONTRASTS[\"7TREG_MP2RAGE_UNI\"]\n",
    "INTERPOLATION_ORDER = 3\n",
    "\n",
    "TO_REGISTER_EXTRA = (CONTRASTS[\"3T_FLAIR\"], CONTRASTS[\"3T_SEGMENTATION\"])\n",
    "REGISTERED_EXTRA = (CONTRASTS[\"7TREG_FLAIR\"], CONTRASTS[\"SEGMENTATION\"])\n",
    "INTERPOLATION_ORDERS = (3, 0)\n",
    "\n",
    "REGISTRATION_SPACE = CONTRASTS[\"MP2RAGE_UNI_ORIGINAL_SK\"]\n",
    "TO_REPLACE = False"
   ]
  },
  {
   "cell_type": "code",
   "execution_count": 9,
   "metadata": {
    "scrolled": true
   },
   "outputs": [
    {
     "name": "stderr",
     "output_type": "stream",
     "text": [
      "  0%|          | 0/20 [00:03<?, ?it/s]\n"
     ]
    },
    {
     "ename": "RuntimeError",
     "evalue": "Exception thrown in SimpleITK ElastixImageFilter_Execute: /home/german/simpleelastix/SimpleElastix/Code/Elastix/src/sitkElastixImageFilterImpl.cxx:259:\nsitk::ERROR: \nitk::ExceptionObject (0x55bd9546a520)\nLocation: \"unknown\" \nFile: /home/german/simpleelastix/build/Elastix/Core/Main/elxElastixFilter.hxx\nLine: 253\nDescription: itk::ERROR: Self(0x55bd95c89390): Internal elastix error: See elastix log (use LogToConsoleOn() or LogToFileOn()).\n\n",
     "output_type": "error",
     "traceback": [
      "\u001b[0;31m---------------------------------------------------------------------------\u001b[0m",
      "\u001b[0;31mRuntimeError\u001b[0m                              Traceback (most recent call last)",
      "\u001b[0;32m<timed exec>\u001b[0m in \u001b[0;36m<module>\u001b[0;34m\u001b[0m\n",
      "\u001b[0;32m~/miniconda3/envs/msrims/lib/python3.8/site-packages/SimpleITK-1.2.0rc2.dev1167+gd4cf2-py3.8-linux-x86_64.egg/SimpleITK/SimpleITK.py\u001b[0m in \u001b[0;36mExecute\u001b[0;34m(self)\u001b[0m\n\u001b[1;32m  10994\u001b[0m     \u001b[0;32mdef\u001b[0m \u001b[0mExecute\u001b[0m\u001b[0;34m(\u001b[0m\u001b[0mself\u001b[0m\u001b[0;34m)\u001b[0m\u001b[0;34m:\u001b[0m\u001b[0;34m\u001b[0m\u001b[0;34m\u001b[0m\u001b[0m\n\u001b[1;32m  10995\u001b[0m         \u001b[0;34m\"\"\"Execute(ElastixImageFilter self) -> Image\"\"\"\u001b[0m\u001b[0;34m\u001b[0m\u001b[0;34m\u001b[0m\u001b[0m\n\u001b[0;32m> 10996\u001b[0;31m         \u001b[0;32mreturn\u001b[0m \u001b[0m_SimpleITK\u001b[0m\u001b[0;34m.\u001b[0m\u001b[0mElastixImageFilter_Execute\u001b[0m\u001b[0;34m(\u001b[0m\u001b[0mself\u001b[0m\u001b[0;34m)\u001b[0m\u001b[0;34m\u001b[0m\u001b[0;34m\u001b[0m\u001b[0m\n\u001b[0m\u001b[1;32m  10997\u001b[0m \u001b[0;34m\u001b[0m\u001b[0m\n\u001b[1;32m  10998\u001b[0m \u001b[0;34m\u001b[0m\u001b[0m\n",
      "\u001b[0;31mRuntimeError\u001b[0m: Exception thrown in SimpleITK ElastixImageFilter_Execute: /home/german/simpleelastix/SimpleElastix/Code/Elastix/src/sitkElastixImageFilterImpl.cxx:259:\nsitk::ERROR: \nitk::ExceptionObject (0x55bd9546a520)\nLocation: \"unknown\" \nFile: /home/german/simpleelastix/build/Elastix/Core/Main/elxElastixFilter.hxx\nLine: 253\nDescription: itk::ERROR: Self(0x55bd95c89390): Internal elastix error: See elastix log (use LogToConsoleOn() or LogToFileOn()).\n\n"
     ]
    }
   ],
   "source": [
    "%%time\n",
    "\n",
    "for db_id in (DATASET_NIH7T_ID, ):#range(len(AVAILABLE_DATASETS)):\n",
    "    dataset = AVAILABLE_DATASETS[db_id]\n",
    "    for subject in tqdm(dataset.get_subjects()):\n",
    "        moving_path = generate_BIDS_path(db_id, **TO_REGISTER, subject=subject)\n",
    "        if REGISTERED is not None:\n",
    "            moving_path_to = generate_BIDS_path(db_id, **REGISTERED, subject=subject)\n",
    "        moving_paths_extra = [generate_BIDS_path(db_id, **vals, subject=subject) for vals in TO_REGISTER_EXTRA]\n",
    "        moving_paths_extra_to = [generate_BIDS_path(db_id, **vals, subject=subject) for vals in REGISTERED_EXTRA]\n",
    "        static_path = generate_BIDS_path(db_id, **REGISTRATION_SPACE, subject=subject)\n",
    "        \n",
    "        if not os.path.exists(moving_path):\n",
    "            print(f\"[{subject}] Moving file not found.\")\n",
    "            continue\n",
    "        if not TO_REPLACE and REGISTERED is not None and os.path.exists(moving_path_to):\n",
    "            print(f\"[{subject}] Registered file already exists.\")\n",
    "            continue\n",
    "        if not os.path.exists(static_path):\n",
    "            print(f\"[{subject}] Static file not found.\")\n",
    "            continue\n",
    "            \n",
    "        all_ok = True\n",
    "        for (pfrom, pto) in zip(moving_paths_extra, moving_paths_extra_to):\n",
    "            if not os.path.exists(pfrom):\n",
    "                print(f\"[{subject}] Moving extra file not found.\")\n",
    "                all_ok = False\n",
    "            if not TO_REPLACE and os.path.exists(pto):\n",
    "                print(f\"[{subject}] Registered extra file already exists.\")\n",
    "                all_ok = False\n",
    "        if not all_ok:\n",
    "            continue\n",
    "                \n",
    "        movingImage = sitk.ReadImage(moving_path)\n",
    "        staticImage = sitk.ReadImage(static_path)\n",
    "        \n",
    "        parameterMap = sitk.GetDefaultParameterMap('rigid')\n",
    "        parameterMap[\"MaximumNumberOfIterations\"] = (\"5000\", )\n",
    "        parameterMap[\"NumberOfResolutions\"] = (\"6\", )\n",
    "        parameterMap['FinalBSplineInterpolationOrder'] = [str(INTERPOLATION_ORDER)]\n",
    "        \n",
    "        elastixImageFilter = sitk.ElastixImageFilter()\n",
    "        elastixImageFilter.SetFixedImage(staticImage)\n",
    "        elastixImageFilter.SetMovingImage(movingImage)\n",
    "        elastixImageFilter.SetParameterMap(parameterMap)\n",
    "        elastixImageFilter.Execute()\n",
    "\n",
    "        resultImage = elastixImageFilter.GetResultImage()\n",
    "        if REGISTERED is not None:\n",
    "            sitk.WriteImage(resultImage, moving_path_to)\n",
    "\n",
    "        for (pfrom, pto, interpolation_order) in zip(moving_paths_extra, moving_paths_extra_to, INTERPOLATION_ORDERS):  \n",
    "            transformParameterMap = elastixImageFilter.GetTransformParameterMap()\n",
    "            for tr in transformParameterMap:\n",
    "                tr['FinalBSplineInterpolationOrder'] = [str(interpolation_order), ]\n",
    "            transformixImageFilter = sitk.TransformixImageFilter()\n",
    "            transformixImageFilter.SetTransformParameterMap(transformParameterMap)\n",
    "            \n",
    "            movingImage = sitk.ReadImage(pfrom)\n",
    "            transformixImageFilter.SetMovingImage(movingImage)\n",
    "            transformixImageFilter.Execute()\n",
    "            resultImage = transformixImageFilter.GetResultImage()\n",
    "            sitk.WriteImage(resultImage, pto)\n",
    "        continue\n",
    "    "
   ]
  },
  {
   "cell_type": "code",
   "execution_count": null,
   "metadata": {},
   "outputs": [],
   "source": [
    "# TO FIX AFFINE MATRICES\n",
    "\n",
    "import sys\n",
    "sys.path.append(\"..\")\n",
    "import nibabel as nib\n",
    "from config import *\n",
    "\n",
    "\n",
    "for patient, dataset in ((12, DATASET_CHUV), (39, DATASET_CHUV), (41, DATASET_CHUV), ):\n",
    "    t2star_path = dataset.get(return_type=\"filename\", subject=f\"{patient:03d}\", **CONTRASTS[\"T2STAR_MAG\"])[0]\n",
    "    flairstar_path = dataset.get(return_type=\"filename\", subject=f\"{patient:03d}\", **CONTRASTS[\"FLAIRSTAR\"])[0]\n",
    "    flair_path = dataset.get(return_type=\"filename\", subject=f\"{patient:03d}\", **CONTRASTS[\"FLAIR\"])[0]\n",
    "    phase_path = dataset.get(return_type=\"filename\", subject=f\"{patient:03d}\", **CONTRASTS[\"T2STAR_PHASE\"])[0]\n",
    "    \n",
    "    output_path = t2star_path.replace(\".nii.gz\", \"_fixed.nii.gz\")\n",
    "    #if os.path.exists(output_path):\n",
    "        #continue\n",
    "    t2 = nib.load(t2star_path)\n",
    "    \n",
    "    phase = nib.load(phase_path)\n",
    "    #flairstar = nib.load(os.path.join(subdir, flairstar_name))\n",
    "    #print(t2.affine)\n",
    "    \n",
    "    new_image = nib.Nifti1Image(t2.get_data(), phase.affine, t2.header)\n",
    "    nib.save(new_image, output_path)"
   ]
  },
  {
   "cell_type": "code",
   "execution_count": 3,
   "metadata": {},
   "outputs": [
    {
     "name": "stdout",
     "output_type": "stream",
     "text": [
      "Fixing patient 001...\n",
      "Fixing patient 002...\n",
      "Fixing patient 003...\n",
      "Fixing patient 004...\n",
      "Fixing patient 005...\n",
      "Fixing patient 006...\n",
      "Fixing patient 007...\n",
      "Fixing patient 008...\n",
      "Fixing patient 009...\n",
      "Fixing patient 010...\n",
      "Fixing patient 011...\n",
      "Fixing patient 012...\n",
      "Fixing patient 013...\n",
      "Fixing patient 014...\n",
      "Fixing patient 015...\n",
      "Fixing patient 016...\n",
      "Fixing patient 017...\n",
      "Fixing patient 018...\n",
      "Fixing patient 019...\n",
      "Fixing patient 020...\n"
     ]
    }
   ],
   "source": [
    "# TO FIX PMAPS\n",
    "\n",
    "import sys\n",
    "sys.path.append(\"..\")\n",
    "import nibabel as nib\n",
    "from config import *\n",
    "\n",
    "dataset = DATASET_NIH7T\n",
    "for patient in dataset.get_subjects():\n",
    "    #pmap_reg = dataset.get(return_type=\"filename\", subject=f\"{patient}\", **CONTRASTS[\"PMAP\"])\n",
    "    #if len(pmap_reg) == 1:\n",
    "        #continue\n",
    "    print(f\"Fixing patient {patient}...\")\n",
    "    pmap_path = dataset.get(return_type=\"filename\", subject=f\"{patient}\", **{ \"acquisition\": None, \"suffix\": \"probabilitiesmap\", \"scope\": \"segmentation_probability_maps\", \"extension\": \"nii.gz\" })\n",
    "    if len(pmap_path) == 0:\n",
    "        print(f\"PROBLEM: {patient}\")\n",
    "        continue\n",
    "    pmap_path = pmap_path[0]\n",
    "    \n",
    "    im = nib.load(pmap_path)\n",
    "    image = im.get_fdata()[:,:,:,:,1].squeeze()\n",
    "    \n",
    "    new_image = nib.Nifti1Image(image, im.affine, im.header)\n",
    "    nib.save(new_image, pmap_path)"
   ]
  },
  {
   "cell_type": "code",
   "execution_count": null,
   "metadata": {},
   "outputs": [],
   "source": []
  }
 ],
 "metadata": {
  "kernelspec": {
   "display_name": "Python 3",
   "language": "python",
   "name": "python3"
  },
  "language_info": {
   "codemirror_mode": {
    "name": "ipython",
    "version": 3
   },
   "file_extension": ".py",
   "mimetype": "text/x-python",
   "name": "python",
   "nbconvert_exporter": "python",
   "pygments_lexer": "ipython3",
   "version": "3.8.1"
  }
 },
 "nbformat": 4,
 "nbformat_minor": 4
}
