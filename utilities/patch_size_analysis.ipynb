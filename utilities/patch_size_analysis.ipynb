{
 "cells": [
  {
   "cell_type": "code",
   "execution_count": 3,
   "metadata": {},
   "outputs": [
    {
     "name": "stdout",
     "output_type": "stream",
     "text": [
      "Loading configuration...\n",
      "Configuration loaded successfully!\n",
      "_____________________________\n",
      "\n"
     ]
    }
   ],
   "source": [
    "import json\n",
    "import os\n",
    "import numpy as np\n",
    "from nibabel import load as load_nii\n",
    "import nibabel as nib\n",
    "from scipy import ndimage\n",
    "from scipy.ndimage.morphology import generate_binary_structure as gbs\n",
    "from scipy.ndimage.measurements import label\n",
    "import matplotlib.pyplot as plt\n",
    "from skimage.feature import hessian_matrix, hessian_matrix_eigvals\n",
    "from tqdm import tqdm\n",
    "import seaborn as sns\n",
    "%matplotlib inline\n",
    "import sys\n",
    "sys.path.append(\"..\")\n",
    "from config import *\n",
    "from utils import get_dataframe_from_metadata\n",
    "import pandas as pd\n",
    "from tqdm import tqdm"
   ]
  },
  {
   "cell_type": "code",
   "execution_count": 2,
   "metadata": {},
   "outputs": [],
   "source": [
    "df_lesions = get_dataframe_from_metadata()"
   ]
  },
  {
   "cell_type": "code",
   "execution_count": 3,
   "metadata": {},
   "outputs": [
    {
     "data": {
      "text/html": [
       "<div>\n",
       "<style scoped>\n",
       "    .dataframe tbody tr th:only-of-type {\n",
       "        vertical-align: middle;\n",
       "    }\n",
       "\n",
       "    .dataframe tbody tr th {\n",
       "        vertical-align: top;\n",
       "    }\n",
       "\n",
       "    .dataframe thead th {\n",
       "        text-align: right;\n",
       "    }\n",
       "</style>\n",
       "<table border=\"1\" class=\"dataframe\">\n",
       "  <thead>\n",
       "    <tr style=\"text-align: right;\">\n",
       "      <th></th>\n",
       "      <th>dataset</th>\n",
       "      <th>patient</th>\n",
       "      <th>lesion</th>\n",
       "      <th>rim</th>\n",
       "      <th>volume</th>\n",
       "      <th>ignore</th>\n",
       "      <th>main_reason</th>\n",
       "      <th>reasons</th>\n",
       "      <th>location</th>\n",
       "      <th>size</th>\n",
       "    </tr>\n",
       "  </thead>\n",
       "  <tbody>\n",
       "    <tr>\n",
       "      <th>0</th>\n",
       "      <td>0</td>\n",
       "      <td>56</td>\n",
       "      <td>2000</td>\n",
       "      <td>False</td>\n",
       "      <td>146</td>\n",
       "      <td>False</td>\n",
       "      <td>NaN</td>\n",
       "      <td></td>\n",
       "      <td>WM</td>\n",
       "      <td>(6, 9, 8)</td>\n",
       "    </tr>\n",
       "    <tr>\n",
       "      <th>1</th>\n",
       "      <td>0</td>\n",
       "      <td>56</td>\n",
       "      <td>2001</td>\n",
       "      <td>False</td>\n",
       "      <td>252</td>\n",
       "      <td>False</td>\n",
       "      <td>NaN</td>\n",
       "      <td></td>\n",
       "      <td>Periventricular</td>\n",
       "      <td>(7, 8, 9)</td>\n",
       "    </tr>\n",
       "    <tr>\n",
       "      <th>2</th>\n",
       "      <td>0</td>\n",
       "      <td>56</td>\n",
       "      <td>2002</td>\n",
       "      <td>False</td>\n",
       "      <td>132</td>\n",
       "      <td>False</td>\n",
       "      <td>NaN</td>\n",
       "      <td></td>\n",
       "      <td>Periventricular</td>\n",
       "      <td>(6, 6, 6)</td>\n",
       "    </tr>\n",
       "    <tr>\n",
       "      <th>3</th>\n",
       "      <td>0</td>\n",
       "      <td>56</td>\n",
       "      <td>2003</td>\n",
       "      <td>False</td>\n",
       "      <td>206</td>\n",
       "      <td>False</td>\n",
       "      <td>NaN</td>\n",
       "      <td></td>\n",
       "      <td>Periventricular</td>\n",
       "      <td>(6, 9, 7)</td>\n",
       "    </tr>\n",
       "    <tr>\n",
       "      <th>4</th>\n",
       "      <td>0</td>\n",
       "      <td>56</td>\n",
       "      <td>2004</td>\n",
       "      <td>False</td>\n",
       "      <td>100</td>\n",
       "      <td>False</td>\n",
       "      <td>NaN</td>\n",
       "      <td></td>\n",
       "      <td>Periventricular</td>\n",
       "      <td>(6, 9, 4)</td>\n",
       "    </tr>\n",
       "    <tr>\n",
       "      <th>...</th>\n",
       "      <td>...</td>\n",
       "      <td>...</td>\n",
       "      <td>...</td>\n",
       "      <td>...</td>\n",
       "      <td>...</td>\n",
       "      <td>...</td>\n",
       "      <td>...</td>\n",
       "      <td>...</td>\n",
       "      <td>...</td>\n",
       "      <td>...</td>\n",
       "    </tr>\n",
       "    <tr>\n",
       "      <th>6986</th>\n",
       "      <td>1</td>\n",
       "      <td>55</td>\n",
       "      <td>2017</td>\n",
       "      <td>False</td>\n",
       "      <td>30</td>\n",
       "      <td>True</td>\n",
       "      <td>&lt; 45</td>\n",
       "      <td>0</td>\n",
       "      <td>Periventricular</td>\n",
       "      <td>(6, 4, 5)</td>\n",
       "    </tr>\n",
       "    <tr>\n",
       "      <th>6987</th>\n",
       "      <td>1</td>\n",
       "      <td>55</td>\n",
       "      <td>2018</td>\n",
       "      <td>False</td>\n",
       "      <td>50</td>\n",
       "      <td>False</td>\n",
       "      <td>NaN</td>\n",
       "      <td></td>\n",
       "      <td>WM</td>\n",
       "      <td>(4, 5, 5)</td>\n",
       "    </tr>\n",
       "    <tr>\n",
       "      <th>6988</th>\n",
       "      <td>1</td>\n",
       "      <td>55</td>\n",
       "      <td>2019</td>\n",
       "      <td>False</td>\n",
       "      <td>65</td>\n",
       "      <td>False</td>\n",
       "      <td>NaN</td>\n",
       "      <td></td>\n",
       "      <td>Periventricular</td>\n",
       "      <td>(8, 6, 6)</td>\n",
       "    </tr>\n",
       "    <tr>\n",
       "      <th>6989</th>\n",
       "      <td>1</td>\n",
       "      <td>55</td>\n",
       "      <td>2020</td>\n",
       "      <td>False</td>\n",
       "      <td>38</td>\n",
       "      <td>True</td>\n",
       "      <td>&lt; 45</td>\n",
       "      <td>0</td>\n",
       "      <td>WM</td>\n",
       "      <td>(3, 6, 5)</td>\n",
       "    </tr>\n",
       "    <tr>\n",
       "      <th>6990</th>\n",
       "      <td>1</td>\n",
       "      <td>55</td>\n",
       "      <td>2021</td>\n",
       "      <td>False</td>\n",
       "      <td>33</td>\n",
       "      <td>True</td>\n",
       "      <td>&lt; 45</td>\n",
       "      <td>0</td>\n",
       "      <td>WM</td>\n",
       "      <td>(5, 4, 7)</td>\n",
       "    </tr>\n",
       "  </tbody>\n",
       "</table>\n",
       "<p>6991 rows × 10 columns</p>\n",
       "</div>"
      ],
      "text/plain": [
       "      dataset  patient  lesion    rim  volume  ignore main_reason reasons  \\\n",
       "0           0       56    2000  False     146   False         NaN           \n",
       "1           0       56    2001  False     252   False         NaN           \n",
       "2           0       56    2002  False     132   False         NaN           \n",
       "3           0       56    2003  False     206   False         NaN           \n",
       "4           0       56    2004  False     100   False         NaN           \n",
       "...       ...      ...     ...    ...     ...     ...         ...     ...   \n",
       "6986        1       55    2017  False      30    True        < 45       0   \n",
       "6987        1       55    2018  False      50   False         NaN           \n",
       "6988        1       55    2019  False      65   False         NaN           \n",
       "6989        1       55    2020  False      38    True        < 45       0   \n",
       "6990        1       55    2021  False      33    True        < 45       0   \n",
       "\n",
       "             location       size  \n",
       "0                  WM  (6, 9, 8)  \n",
       "1     Periventricular  (7, 8, 9)  \n",
       "2     Periventricular  (6, 6, 6)  \n",
       "3     Periventricular  (6, 9, 7)  \n",
       "4     Periventricular  (6, 9, 4)  \n",
       "...               ...        ...  \n",
       "6986  Periventricular  (6, 4, 5)  \n",
       "6987               WM  (4, 5, 5)  \n",
       "6988  Periventricular  (8, 6, 6)  \n",
       "6989               WM  (3, 6, 5)  \n",
       "6990               WM  (5, 4, 7)  \n",
       "\n",
       "[6991 rows x 10 columns]"
      ]
     },
     "execution_count": 3,
     "metadata": {},
     "output_type": "execute_result"
    }
   ],
   "source": [
    "df_lesions"
   ]
  },
  {
   "cell_type": "code",
   "execution_count": 4,
   "metadata": {},
   "outputs": [
    {
     "data": {
      "text/html": [
       "<div>\n",
       "<style scoped>\n",
       "    .dataframe tbody tr th:only-of-type {\n",
       "        vertical-align: middle;\n",
       "    }\n",
       "\n",
       "    .dataframe tbody tr th {\n",
       "        vertical-align: top;\n",
       "    }\n",
       "\n",
       "    .dataframe thead th {\n",
       "        text-align: right;\n",
       "    }\n",
       "</style>\n",
       "<table border=\"1\" class=\"dataframe\">\n",
       "  <thead>\n",
       "    <tr style=\"text-align: right;\">\n",
       "      <th></th>\n",
       "      <th>dataset</th>\n",
       "      <th>patient</th>\n",
       "      <th>lesion</th>\n",
       "      <th>rim</th>\n",
       "      <th>volume</th>\n",
       "      <th>ignore</th>\n",
       "      <th>main_reason</th>\n",
       "      <th>reasons</th>\n",
       "      <th>location</th>\n",
       "      <th>size</th>\n",
       "      <th>max_size</th>\n",
       "    </tr>\n",
       "  </thead>\n",
       "  <tbody>\n",
       "    <tr>\n",
       "      <th>5413</th>\n",
       "      <td>1</td>\n",
       "      <td>32</td>\n",
       "      <td>1000</td>\n",
       "      <td>True</td>\n",
       "      <td>21207</td>\n",
       "      <td>True</td>\n",
       "      <td>&gt; 10000</td>\n",
       "      <td>1</td>\n",
       "      <td>Periventricular</td>\n",
       "      <td>(48, 59, 56)</td>\n",
       "      <td>59</td>\n",
       "    </tr>\n",
       "    <tr>\n",
       "      <th>4518</th>\n",
       "      <td>1</td>\n",
       "      <td>5</td>\n",
       "      <td>1001</td>\n",
       "      <td>True</td>\n",
       "      <td>14271</td>\n",
       "      <td>True</td>\n",
       "      <td>&gt; 10000</td>\n",
       "      <td>1</td>\n",
       "      <td>Periventricular</td>\n",
       "      <td>(35, 43, 35)</td>\n",
       "      <td>43</td>\n",
       "    </tr>\n",
       "    <tr>\n",
       "      <th>6690</th>\n",
       "      <td>1</td>\n",
       "      <td>51</td>\n",
       "      <td>1031</td>\n",
       "      <td>True</td>\n",
       "      <td>11340</td>\n",
       "      <td>True</td>\n",
       "      <td>&gt; 10000</td>\n",
       "      <td>1</td>\n",
       "      <td>Periventricular</td>\n",
       "      <td>(37, 60, 24)</td>\n",
       "      <td>60</td>\n",
       "    </tr>\n",
       "    <tr>\n",
       "      <th>2096</th>\n",
       "      <td>0</td>\n",
       "      <td>95</td>\n",
       "      <td>1011</td>\n",
       "      <td>True</td>\n",
       "      <td>11165</td>\n",
       "      <td>True</td>\n",
       "      <td>&gt; 10000</td>\n",
       "      <td>1</td>\n",
       "      <td>Periventricular</td>\n",
       "      <td>(39, 59, 91)</td>\n",
       "      <td>91</td>\n",
       "    </tr>\n",
       "    <tr>\n",
       "      <th>6665</th>\n",
       "      <td>1</td>\n",
       "      <td>51</td>\n",
       "      <td>1006</td>\n",
       "      <td>True</td>\n",
       "      <td>9947</td>\n",
       "      <td>False</td>\n",
       "      <td>NaN</td>\n",
       "      <td></td>\n",
       "      <td>Periventricular</td>\n",
       "      <td>(63, 46, 29)</td>\n",
       "      <td>63</td>\n",
       "    </tr>\n",
       "    <tr>\n",
       "      <th>...</th>\n",
       "      <td>...</td>\n",
       "      <td>...</td>\n",
       "      <td>...</td>\n",
       "      <td>...</td>\n",
       "      <td>...</td>\n",
       "      <td>...</td>\n",
       "      <td>...</td>\n",
       "      <td>...</td>\n",
       "      <td>...</td>\n",
       "      <td>...</td>\n",
       "      <td>...</td>\n",
       "    </tr>\n",
       "    <tr>\n",
       "      <th>1670</th>\n",
       "      <td>0</td>\n",
       "      <td>85</td>\n",
       "      <td>1031</td>\n",
       "      <td>True</td>\n",
       "      <td>79</td>\n",
       "      <td>False</td>\n",
       "      <td>NaN</td>\n",
       "      <td></td>\n",
       "      <td>WM</td>\n",
       "      <td>(8, 9, 2)</td>\n",
       "      <td>9</td>\n",
       "    </tr>\n",
       "    <tr>\n",
       "      <th>1668</th>\n",
       "      <td>0</td>\n",
       "      <td>85</td>\n",
       "      <td>1029</td>\n",
       "      <td>True</td>\n",
       "      <td>73</td>\n",
       "      <td>False</td>\n",
       "      <td>NaN</td>\n",
       "      <td></td>\n",
       "      <td>WM</td>\n",
       "      <td>(8, 8, 2)</td>\n",
       "      <td>8</td>\n",
       "    </tr>\n",
       "    <tr>\n",
       "      <th>2655</th>\n",
       "      <td>0</td>\n",
       "      <td>102</td>\n",
       "      <td>1006</td>\n",
       "      <td>True</td>\n",
       "      <td>64</td>\n",
       "      <td>False</td>\n",
       "      <td>NaN</td>\n",
       "      <td></td>\n",
       "      <td>Periventricular</td>\n",
       "      <td>(6, 6, 2)</td>\n",
       "      <td>6</td>\n",
       "    </tr>\n",
       "    <tr>\n",
       "      <th>2027</th>\n",
       "      <td>0</td>\n",
       "      <td>94</td>\n",
       "      <td>1005</td>\n",
       "      <td>True</td>\n",
       "      <td>57</td>\n",
       "      <td>False</td>\n",
       "      <td>NaN</td>\n",
       "      <td></td>\n",
       "      <td>Periventricular</td>\n",
       "      <td>(6, 7, 3)</td>\n",
       "      <td>7</td>\n",
       "    </tr>\n",
       "    <tr>\n",
       "      <th>1669</th>\n",
       "      <td>0</td>\n",
       "      <td>85</td>\n",
       "      <td>1030</td>\n",
       "      <td>True</td>\n",
       "      <td>45</td>\n",
       "      <td>False</td>\n",
       "      <td>NaN</td>\n",
       "      <td></td>\n",
       "      <td>Periventricular</td>\n",
       "      <td>(5, 5, 2)</td>\n",
       "      <td>5</td>\n",
       "    </tr>\n",
       "  </tbody>\n",
       "</table>\n",
       "<p>462 rows × 11 columns</p>\n",
       "</div>"
      ],
      "text/plain": [
       "      dataset  patient  lesion   rim  volume  ignore main_reason reasons  \\\n",
       "5413        1       32    1000  True   21207    True     > 10000       1   \n",
       "4518        1        5    1001  True   14271    True     > 10000       1   \n",
       "6690        1       51    1031  True   11340    True     > 10000       1   \n",
       "2096        0       95    1011  True   11165    True     > 10000       1   \n",
       "6665        1       51    1006  True    9947   False         NaN           \n",
       "...       ...      ...     ...   ...     ...     ...         ...     ...   \n",
       "1670        0       85    1031  True      79   False         NaN           \n",
       "1668        0       85    1029  True      73   False         NaN           \n",
       "2655        0      102    1006  True      64   False         NaN           \n",
       "2027        0       94    1005  True      57   False         NaN           \n",
       "1669        0       85    1030  True      45   False         NaN           \n",
       "\n",
       "             location          size  max_size  \n",
       "5413  Periventricular  (48, 59, 56)        59  \n",
       "4518  Periventricular  (35, 43, 35)        43  \n",
       "6690  Periventricular  (37, 60, 24)        60  \n",
       "2096  Periventricular  (39, 59, 91)        91  \n",
       "6665  Periventricular  (63, 46, 29)        63  \n",
       "...               ...           ...       ...  \n",
       "1670               WM     (8, 9, 2)         9  \n",
       "1668               WM     (8, 8, 2)         8  \n",
       "2655  Periventricular     (6, 6, 2)         6  \n",
       "2027  Periventricular     (6, 7, 3)         7  \n",
       "1669  Periventricular     (5, 5, 2)         5  \n",
       "\n",
       "[462 rows x 11 columns]"
      ]
     },
     "execution_count": 4,
     "metadata": {},
     "output_type": "execute_result"
    }
   ],
   "source": [
    "rimpos = df_lesions[(df_lesions[\"rim\"])].sort_values(\"volume\", ascending=False)\n",
    "rimpos[\"max_size\"] = rimpos[\"size\"].apply(lambda s: np.max(s))\n",
    "rimpos"
   ]
  },
  {
   "cell_type": "code",
   "execution_count": 5,
   "metadata": {},
   "outputs": [
    {
     "data": {
      "text/plain": [
       "<matplotlib.axes._subplots.AxesSubplot at 0x7f5f6125c640>"
      ]
     },
     "execution_count": 5,
     "metadata": {},
     "output_type": "execute_result"
    },
    {
     "data": {
      "image/png": "[encoded data removed]",
      "text/plain": [
       "<Figure size 864x504 with 1 Axes>"
      ]
     },
     "metadata": {
      "needs_background": "light"
     },
     "output_type": "display_data"
    }
   ],
   "source": [
    "plt.figure(figsize=(12,7))\n",
    "sns.boxplot(rimpos[\"max_size\"])"
   ]
  },
  {
   "cell_type": "code",
   "execution_count": 25,
   "metadata": {},
   "outputs": [
    {
     "data": {
      "text/plain": [
       "7.575757575757576"
      ]
     },
     "execution_count": 25,
     "metadata": {},
     "output_type": "execute_result"
    }
   ],
   "source": [
    "len(rimpos[rimpos[\"max_size\"] >= 35]) * 100 / len(rimpos[\"max_size\"])"
   ]
  },
  {
   "cell_type": "code",
   "execution_count": 19,
   "metadata": {},
   "outputs": [
    {
     "data": {
      "text/plain": [
       "4.329004329004329"
      ]
     },
     "execution_count": 19,
     "metadata": {},
     "output_type": "execute_result"
    }
   ],
   "source": [
    "100 * len((rimpos[rimpos[\"volume\"] > 5000]).index) / len(rimpos.index)"
   ]
  },
  {
   "cell_type": "code",
   "execution_count": 114,
   "metadata": {},
   "outputs": [],
   "source": [
    "def analize_experts_slice_size():\n",
    "    results = []\n",
    "    for i in range(len(AVAILABLE_DATASETS)):\n",
    "        dataset = AVAILABLE_DATASETS[i]\n",
    "        for pat in tqdm(dataset.get_subjects()):\n",
    "            pat = int(pat)\n",
    "            rimpos_annotations_paths = dataset.get(return_type=\"filename\", subject=f\"{pat:03d}\", **CONTRASTS[\"EXPERTS_ANNOTATIONS\"])\n",
    "            if len(rimpos_annotations_paths) == 0:\n",
    "                print(f\"Patient {pat} omitted.\")\n",
    "                continue\n",
    "            image = nib.load(rimpos_annotations_paths[0]).get_fdata().astype(int)\n",
    "            \n",
    "            objects = ndimage.find_objects(image)\n",
    "            if objects is None or len(objects) == 0:\n",
    "                print(f\"ERROR ON PATIENT {pat}\")\n",
    "                continue\n",
    "            for (sl_x, sl_y, sl_z) in [obj for obj in objects if obj is not None]:\n",
    "                results.append((pat, sl_x.start, sl_y.start, sl_z.start, sl_x.stop, sl_y.stop, sl_z.stop))\n",
    "    df = pd.DataFrame(data=results, columns=[\"patient\", \"x_start\", \"y_start\", \"z_start\", \"x_end\", \"y_end\", \"z_end\"])\n",
    "    df[\"x_size\"] = df[\"x_end\"] - df[\"x_start\"]\n",
    "    df[\"y_size\"] = df[\"y_end\"] - df[\"y_start\"]\n",
    "    df[\"z_size\"] = df[\"z_end\"] - df[\"z_start\"]\n",
    "    return df\n",
    "\n",
    "            "
   ]
  },
  {
   "cell_type": "code",
   "execution_count": 115,
   "metadata": {},
   "outputs": [
    {
     "name": "stderr",
     "output_type": "stream",
     "text": [
      "  0%|          | 0/69 [00:00<?, ?it/s]"
     ]
    },
    {
     "name": "stdout",
     "output_type": "stream",
     "text": [
      "Patient 56 omitted.\n"
     ]
    },
    {
     "name": "stderr",
     "output_type": "stream",
     "text": [
      "  4%|▍         | 3/69 [00:01<00:22,  2.87it/s]"
     ]
    },
    {
     "name": "stdout",
     "output_type": "stream",
     "text": [
      "Patient 59 omitted.\n"
     ]
    },
    {
     "name": "stderr",
     "output_type": "stream",
     "text": [
      "  7%|▋         | 5/69 [00:01<00:20,  3.05it/s]"
     ]
    },
    {
     "name": "stdout",
     "output_type": "stream",
     "text": [
      "Patient 61 omitted.\n",
      "Patient 62 omitted.\n",
      "Patient 63 omitted.\n"
     ]
    },
    {
     "name": "stderr",
     "output_type": "stream",
     "text": [
      " 17%|█▋        | 12/69 [00:03<00:24,  2.31it/s]"
     ]
    },
    {
     "name": "stdout",
     "output_type": "stream",
     "text": [
      "Patient 68 omitted.\n"
     ]
    },
    {
     "name": "stderr",
     "output_type": "stream",
     "text": [
      " 22%|██▏       | 15/69 [00:04<00:23,  2.35it/s]"
     ]
    },
    {
     "name": "stdout",
     "output_type": "stream",
     "text": [
      "Patient 71 omitted.\n"
     ]
    },
    {
     "name": "stderr",
     "output_type": "stream",
     "text": [
      " 25%|██▍       | 17/69 [00:05<00:19,  2.64it/s]"
     ]
    },
    {
     "name": "stdout",
     "output_type": "stream",
     "text": [
      "Patient 73 omitted.\n"
     ]
    },
    {
     "name": "stderr",
     "output_type": "stream",
     "text": [
      " 29%|██▉       | 20/69 [00:06<00:19,  2.52it/s]"
     ]
    },
    {
     "name": "stdout",
     "output_type": "stream",
     "text": [
      "Patient 76 omitted.\n"
     ]
    },
    {
     "name": "stderr",
     "output_type": "stream",
     "text": [
      " 38%|███▊      | 26/69 [00:09<00:20,  2.08it/s]"
     ]
    },
    {
     "name": "stdout",
     "output_type": "stream",
     "text": [
      "Patient 82 omitted.\n"
     ]
    },
    {
     "name": "stderr",
     "output_type": "stream",
     "text": [
      " 52%|█████▏    | 36/69 [00:14<00:17,  1.89it/s]"
     ]
    },
    {
     "name": "stdout",
     "output_type": "stream",
     "text": [
      "Patient 98 omitted.\n",
      "Patient 99 omitted.\n",
      "Patient 100 omitted.\n"
     ]
    },
    {
     "name": "stderr",
     "output_type": "stream",
     "text": [
      " 59%|█████▉    | 41/69 [00:15<00:12,  2.25it/s]"
     ]
    },
    {
     "name": "stdout",
     "output_type": "stream",
     "text": [
      "Patient 103 omitted.\n",
      "Patient 104 omitted.\n",
      "Patient 105 omitted.\n",
      "Patient 106 omitted.\n",
      "Patient 107 omitted.\n"
     ]
    },
    {
     "name": "stderr",
     "output_type": "stream",
     "text": [
      " 70%|██████▉   | 48/69 [00:16<00:08,  2.53it/s]"
     ]
    },
    {
     "name": "stdout",
     "output_type": "stream",
     "text": [
      "Patient 110 omitted.\n"
     ]
    },
    {
     "name": "stderr",
     "output_type": "stream",
     "text": [
      " 81%|████████  | 56/69 [00:19<00:06,  2.00it/s]"
     ]
    },
    {
     "name": "stdout",
     "output_type": "stream",
     "text": [
      "Patient 120 omitted.\n",
      "Patient 121 omitted.\n"
     ]
    },
    {
     "name": "stderr",
     "output_type": "stream",
     "text": [
      " 91%|█████████▏| 63/69 [00:22<00:02,  2.03it/s]"
     ]
    },
    {
     "name": "stdout",
     "output_type": "stream",
     "text": [
      "Patient 127 omitted.\n"
     ]
    },
    {
     "name": "stderr",
     "output_type": "stream",
     "text": [
      "100%|██████████| 69/69 [00:25<00:00,  2.74it/s]\n",
      "  2%|▏         | 1/55 [00:00<00:35,  1.53it/s]"
     ]
    },
    {
     "name": "stdout",
     "output_type": "stream",
     "text": [
      "Patient 2 omitted.\n",
      "Patient 3 omitted.\n",
      "Patient 4 omitted.\n"
     ]
    },
    {
     "name": "stderr",
     "output_type": "stream",
     "text": [
      "  9%|▉         | 5/55 [00:01<00:25,  1.98it/s]"
     ]
    },
    {
     "name": "stdout",
     "output_type": "stream",
     "text": [
      "Patient 6 omitted.\n",
      "Patient 7 omitted.\n"
     ]
    },
    {
     "name": "stderr",
     "output_type": "stream",
     "text": [
      " 15%|█▍        | 8/55 [00:01<00:19,  2.44it/s]"
     ]
    },
    {
     "name": "stdout",
     "output_type": "stream",
     "text": [
      "Patient 9 omitted.\n"
     ]
    },
    {
     "name": "stderr",
     "output_type": "stream",
     "text": [
      " 18%|█▊        | 10/55 [00:02<00:17,  2.55it/s]"
     ]
    },
    {
     "name": "stdout",
     "output_type": "stream",
     "text": [
      "Patient 11 omitted.\n",
      "Patient 12 omitted.\n"
     ]
    },
    {
     "name": "stderr",
     "output_type": "stream",
     "text": [
      " 25%|██▌       | 14/55 [00:03<00:17,  2.33it/s]"
     ]
    },
    {
     "name": "stdout",
     "output_type": "stream",
     "text": [
      "Patient 15 omitted.\n",
      "Patient 16 omitted.\n",
      "Patient 17 omitted.\n"
     ]
    },
    {
     "name": "stderr",
     "output_type": "stream",
     "text": [
      " 33%|███▎      | 18/55 [00:04<00:12,  2.87it/s]"
     ]
    },
    {
     "name": "stdout",
     "output_type": "stream",
     "text": [
      "Patient 19 omitted.\n"
     ]
    },
    {
     "name": "stderr",
     "output_type": "stream",
     "text": [
      " 36%|███▋      | 20/55 [00:05<00:12,  2.87it/s]"
     ]
    },
    {
     "name": "stdout",
     "output_type": "stream",
     "text": [
      "Patient 21 omitted.\n"
     ]
    },
    {
     "name": "stderr",
     "output_type": "stream",
     "text": [
      " 40%|████      | 22/55 [00:05<00:11,  2.98it/s]"
     ]
    },
    {
     "name": "stdout",
     "output_type": "stream",
     "text": [
      "Patient 23 omitted.\n",
      "Patient 24 omitted.\n",
      "Patient 25 omitted.\n",
      "Patient 26 omitted.\n"
     ]
    },
    {
     "name": "stderr",
     "output_type": "stream",
     "text": [
      " 49%|████▉     | 27/55 [00:06<00:07,  3.64it/s]"
     ]
    },
    {
     "name": "stdout",
     "output_type": "stream",
     "text": [
      "Patient 28 omitted.\n"
     ]
    },
    {
     "name": "stderr",
     "output_type": "stream",
     "text": [
      " 53%|█████▎    | 29/55 [00:07<00:07,  3.38it/s]"
     ]
    },
    {
     "name": "stdout",
     "output_type": "stream",
     "text": [
      "Patient 30 omitted.\n"
     ]
    },
    {
     "name": "stderr",
     "output_type": "stream",
     "text": [
      " 58%|█████▊    | 32/55 [00:08<00:09,  2.45it/s]"
     ]
    },
    {
     "name": "stdout",
     "output_type": "stream",
     "text": [
      "Patient 33 omitted.\n"
     ]
    },
    {
     "name": "stderr",
     "output_type": "stream",
     "text": [
      " 62%|██████▏   | 34/55 [00:08<00:07,  2.76it/s]"
     ]
    },
    {
     "name": "stdout",
     "output_type": "stream",
     "text": [
      "Patient 35 omitted.\n",
      "Patient 36 omitted.\n"
     ]
    },
    {
     "name": "stderr",
     "output_type": "stream",
     "text": [
      " 67%|██████▋   | 37/55 [00:09<00:05,  3.18it/s]"
     ]
    },
    {
     "name": "stdout",
     "output_type": "stream",
     "text": [
      "Patient 38 omitted.\n"
     ]
    },
    {
     "name": "stderr",
     "output_type": "stream",
     "text": [
      " 73%|███████▎  | 40/55 [00:10<00:05,  2.55it/s]"
     ]
    },
    {
     "name": "stdout",
     "output_type": "stream",
     "text": [
      "Patient 41 omitted.\n"
     ]
    },
    {
     "name": "stderr",
     "output_type": "stream",
     "text": [
      " 78%|███████▊  | 43/55 [00:11<00:04,  2.63it/s]"
     ]
    },
    {
     "name": "stdout",
     "output_type": "stream",
     "text": [
      "Patient 44 omitted.\n"
     ]
    },
    {
     "name": "stderr",
     "output_type": "stream",
     "text": [
      " 82%|████████▏ | 45/55 [00:12<00:03,  2.81it/s]"
     ]
    },
    {
     "name": "stdout",
     "output_type": "stream",
     "text": [
      "Patient 46 omitted.\n"
     ]
    },
    {
     "name": "stderr",
     "output_type": "stream",
     "text": [
      " 89%|████████▉ | 49/55 [00:14<00:02,  2.06it/s]"
     ]
    },
    {
     "name": "stdout",
     "output_type": "stream",
     "text": [
      "Patient 50 omitted.\n"
     ]
    },
    {
     "name": "stderr",
     "output_type": "stream",
     "text": [
      " 95%|█████████▍| 52/55 [00:15<00:01,  2.20it/s]"
     ]
    },
    {
     "name": "stdout",
     "output_type": "stream",
     "text": [
      "Patient 53 omitted.\n"
     ]
    },
    {
     "name": "stderr",
     "output_type": "stream",
     "text": [
      "100%|██████████| 55/55 [00:16<00:00,  3.36it/s]\n"
     ]
    },
    {
     "data": {
      "text/html": [
       "<div>\n",
       "<style scoped>\n",
       "    .dataframe tbody tr th:only-of-type {\n",
       "        vertical-align: middle;\n",
       "    }\n",
       "\n",
       "    .dataframe tbody tr th {\n",
       "        vertical-align: top;\n",
       "    }\n",
       "\n",
       "    .dataframe thead th {\n",
       "        text-align: right;\n",
       "    }\n",
       "</style>\n",
       "<table border=\"1\" class=\"dataframe\">\n",
       "  <thead>\n",
       "    <tr style=\"text-align: right;\">\n",
       "      <th></th>\n",
       "      <th>patient</th>\n",
       "      <th>x_start</th>\n",
       "      <th>y_start</th>\n",
       "      <th>z_start</th>\n",
       "      <th>x_end</th>\n",
       "      <th>y_end</th>\n",
       "      <th>z_end</th>\n",
       "      <th>x_size</th>\n",
       "      <th>y_size</th>\n",
       "      <th>z_size</th>\n",
       "    </tr>\n",
       "  </thead>\n",
       "  <tbody>\n",
       "    <tr>\n",
       "      <th>0</th>\n",
       "      <td>57</td>\n",
       "      <td>95</td>\n",
       "      <td>119</td>\n",
       "      <td>276</td>\n",
       "      <td>108</td>\n",
       "      <td>134</td>\n",
       "      <td>292</td>\n",
       "      <td>13</td>\n",
       "      <td>15</td>\n",
       "      <td>16</td>\n",
       "    </tr>\n",
       "    <tr>\n",
       "      <th>1</th>\n",
       "      <td>57</td>\n",
       "      <td>97</td>\n",
       "      <td>216</td>\n",
       "      <td>257</td>\n",
       "      <td>107</td>\n",
       "      <td>224</td>\n",
       "      <td>265</td>\n",
       "      <td>10</td>\n",
       "      <td>8</td>\n",
       "      <td>8</td>\n",
       "    </tr>\n",
       "    <tr>\n",
       "      <th>2</th>\n",
       "      <td>57</td>\n",
       "      <td>85</td>\n",
       "      <td>246</td>\n",
       "      <td>232</td>\n",
       "      <td>94</td>\n",
       "      <td>261</td>\n",
       "      <td>243</td>\n",
       "      <td>9</td>\n",
       "      <td>15</td>\n",
       "      <td>11</td>\n",
       "    </tr>\n",
       "    <tr>\n",
       "      <th>3</th>\n",
       "      <td>58</td>\n",
       "      <td>150</td>\n",
       "      <td>224</td>\n",
       "      <td>251</td>\n",
       "      <td>161</td>\n",
       "      <td>240</td>\n",
       "      <td>259</td>\n",
       "      <td>11</td>\n",
       "      <td>16</td>\n",
       "      <td>8</td>\n",
       "    </tr>\n",
       "    <tr>\n",
       "      <th>4</th>\n",
       "      <td>60</td>\n",
       "      <td>145</td>\n",
       "      <td>233</td>\n",
       "      <td>275</td>\n",
       "      <td>161</td>\n",
       "      <td>253</td>\n",
       "      <td>276</td>\n",
       "      <td>16</td>\n",
       "      <td>20</td>\n",
       "      <td>1</td>\n",
       "    </tr>\n",
       "    <tr>\n",
       "      <th>...</th>\n",
       "      <td>...</td>\n",
       "      <td>...</td>\n",
       "      <td>...</td>\n",
       "      <td>...</td>\n",
       "      <td>...</td>\n",
       "      <td>...</td>\n",
       "      <td>...</td>\n",
       "      <td>...</td>\n",
       "      <td>...</td>\n",
       "      <td>...</td>\n",
       "    </tr>\n",
       "    <tr>\n",
       "      <th>429</th>\n",
       "      <td>51</td>\n",
       "      <td>67</td>\n",
       "      <td>125</td>\n",
       "      <td>270</td>\n",
       "      <td>92</td>\n",
       "      <td>143</td>\n",
       "      <td>271</td>\n",
       "      <td>25</td>\n",
       "      <td>18</td>\n",
       "      <td>1</td>\n",
       "    </tr>\n",
       "    <tr>\n",
       "      <th>430</th>\n",
       "      <td>51</td>\n",
       "      <td>73</td>\n",
       "      <td>129</td>\n",
       "      <td>263</td>\n",
       "      <td>88</td>\n",
       "      <td>142</td>\n",
       "      <td>264</td>\n",
       "      <td>15</td>\n",
       "      <td>13</td>\n",
       "      <td>1</td>\n",
       "    </tr>\n",
       "    <tr>\n",
       "      <th>431</th>\n",
       "      <td>52</td>\n",
       "      <td>154</td>\n",
       "      <td>214</td>\n",
       "      <td>260</td>\n",
       "      <td>165</td>\n",
       "      <td>222</td>\n",
       "      <td>261</td>\n",
       "      <td>11</td>\n",
       "      <td>8</td>\n",
       "      <td>1</td>\n",
       "    </tr>\n",
       "    <tr>\n",
       "      <th>432</th>\n",
       "      <td>54</td>\n",
       "      <td>95</td>\n",
       "      <td>250</td>\n",
       "      <td>244</td>\n",
       "      <td>105</td>\n",
       "      <td>259</td>\n",
       "      <td>245</td>\n",
       "      <td>10</td>\n",
       "      <td>9</td>\n",
       "      <td>1</td>\n",
       "    </tr>\n",
       "    <tr>\n",
       "      <th>433</th>\n",
       "      <td>55</td>\n",
       "      <td>96</td>\n",
       "      <td>215</td>\n",
       "      <td>265</td>\n",
       "      <td>109</td>\n",
       "      <td>227</td>\n",
       "      <td>266</td>\n",
       "      <td>13</td>\n",
       "      <td>12</td>\n",
       "      <td>1</td>\n",
       "    </tr>\n",
       "  </tbody>\n",
       "</table>\n",
       "<p>434 rows × 10 columns</p>\n",
       "</div>"
      ],
      "text/plain": [
       "     patient  x_start  y_start  z_start  x_end  y_end  z_end  x_size  y_size  \\\n",
       "0         57       95      119      276    108    134    292      13      15   \n",
       "1         57       97      216      257    107    224    265      10       8   \n",
       "2         57       85      246      232     94    261    243       9      15   \n",
       "3         58      150      224      251    161    240    259      11      16   \n",
       "4         60      145      233      275    161    253    276      16      20   \n",
       "..       ...      ...      ...      ...    ...    ...    ...     ...     ...   \n",
       "429       51       67      125      270     92    143    271      25      18   \n",
       "430       51       73      129      263     88    142    264      15      13   \n",
       "431       52      154      214      260    165    222    261      11       8   \n",
       "432       54       95      250      244    105    259    245      10       9   \n",
       "433       55       96      215      265    109    227    266      13      12   \n",
       "\n",
       "     z_size  \n",
       "0        16  \n",
       "1         8  \n",
       "2        11  \n",
       "3         8  \n",
       "4         1  \n",
       "..      ...  \n",
       "429       1  \n",
       "430       1  \n",
       "431       1  \n",
       "432       1  \n",
       "433       1  \n",
       "\n",
       "[434 rows x 10 columns]"
      ]
     },
     "execution_count": 115,
     "metadata": {},
     "output_type": "execute_result"
    }
   ],
   "source": [
    "df_rim_ann = analize_experts_slice_size()\n",
    "df_rim_ann"
   ]
  },
  {
   "cell_type": "code",
   "execution_count": 66,
   "metadata": {},
   "outputs": [
    {
     "data": {
      "text/html": [
       "<div>\n",
       "<style scoped>\n",
       "    .dataframe tbody tr th:only-of-type {\n",
       "        vertical-align: middle;\n",
       "    }\n",
       "\n",
       "    .dataframe tbody tr th {\n",
       "        vertical-align: top;\n",
       "    }\n",
       "\n",
       "    .dataframe thead th {\n",
       "        text-align: right;\n",
       "    }\n",
       "</style>\n",
       "<table border=\"1\" class=\"dataframe\">\n",
       "  <thead>\n",
       "    <tr style=\"text-align: right;\">\n",
       "      <th></th>\n",
       "      <th>dataset</th>\n",
       "      <th>patient</th>\n",
       "      <th>lesion</th>\n",
       "      <th>rim</th>\n",
       "      <th>volume</th>\n",
       "      <th>ignore</th>\n",
       "      <th>main_reason</th>\n",
       "      <th>reasons</th>\n",
       "      <th>location</th>\n",
       "      <th>size</th>\n",
       "    </tr>\n",
       "  </thead>\n",
       "  <tbody>\n",
       "    <tr>\n",
       "      <th>0</th>\n",
       "      <td>0</td>\n",
       "      <td>56</td>\n",
       "      <td>2000</td>\n",
       "      <td>False</td>\n",
       "      <td>146</td>\n",
       "      <td>False</td>\n",
       "      <td>NaN</td>\n",
       "      <td></td>\n",
       "      <td>WM</td>\n",
       "      <td>(6, 9, 8)</td>\n",
       "    </tr>\n",
       "    <tr>\n",
       "      <th>1</th>\n",
       "      <td>0</td>\n",
       "      <td>56</td>\n",
       "      <td>2001</td>\n",
       "      <td>False</td>\n",
       "      <td>252</td>\n",
       "      <td>False</td>\n",
       "      <td>NaN</td>\n",
       "      <td></td>\n",
       "      <td>Periventricular</td>\n",
       "      <td>(7, 8, 9)</td>\n",
       "    </tr>\n",
       "    <tr>\n",
       "      <th>2</th>\n",
       "      <td>0</td>\n",
       "      <td>56</td>\n",
       "      <td>2002</td>\n",
       "      <td>False</td>\n",
       "      <td>132</td>\n",
       "      <td>False</td>\n",
       "      <td>NaN</td>\n",
       "      <td></td>\n",
       "      <td>Periventricular</td>\n",
       "      <td>(6, 6, 6)</td>\n",
       "    </tr>\n",
       "    <tr>\n",
       "      <th>3</th>\n",
       "      <td>0</td>\n",
       "      <td>56</td>\n",
       "      <td>2003</td>\n",
       "      <td>False</td>\n",
       "      <td>206</td>\n",
       "      <td>False</td>\n",
       "      <td>NaN</td>\n",
       "      <td></td>\n",
       "      <td>Periventricular</td>\n",
       "      <td>(6, 9, 7)</td>\n",
       "    </tr>\n",
       "    <tr>\n",
       "      <th>4</th>\n",
       "      <td>0</td>\n",
       "      <td>56</td>\n",
       "      <td>2004</td>\n",
       "      <td>False</td>\n",
       "      <td>100</td>\n",
       "      <td>False</td>\n",
       "      <td>NaN</td>\n",
       "      <td></td>\n",
       "      <td>Periventricular</td>\n",
       "      <td>(6, 9, 4)</td>\n",
       "    </tr>\n",
       "    <tr>\n",
       "      <th>...</th>\n",
       "      <td>...</td>\n",
       "      <td>...</td>\n",
       "      <td>...</td>\n",
       "      <td>...</td>\n",
       "      <td>...</td>\n",
       "      <td>...</td>\n",
       "      <td>...</td>\n",
       "      <td>...</td>\n",
       "      <td>...</td>\n",
       "      <td>...</td>\n",
       "    </tr>\n",
       "    <tr>\n",
       "      <th>6986</th>\n",
       "      <td>1</td>\n",
       "      <td>55</td>\n",
       "      <td>2017</td>\n",
       "      <td>False</td>\n",
       "      <td>30</td>\n",
       "      <td>True</td>\n",
       "      <td>&lt; 45</td>\n",
       "      <td>0</td>\n",
       "      <td>Periventricular</td>\n",
       "      <td>(6, 4, 5)</td>\n",
       "    </tr>\n",
       "    <tr>\n",
       "      <th>6987</th>\n",
       "      <td>1</td>\n",
       "      <td>55</td>\n",
       "      <td>2018</td>\n",
       "      <td>False</td>\n",
       "      <td>50</td>\n",
       "      <td>False</td>\n",
       "      <td>NaN</td>\n",
       "      <td></td>\n",
       "      <td>WM</td>\n",
       "      <td>(4, 5, 5)</td>\n",
       "    </tr>\n",
       "    <tr>\n",
       "      <th>6988</th>\n",
       "      <td>1</td>\n",
       "      <td>55</td>\n",
       "      <td>2019</td>\n",
       "      <td>False</td>\n",
       "      <td>65</td>\n",
       "      <td>False</td>\n",
       "      <td>NaN</td>\n",
       "      <td></td>\n",
       "      <td>Periventricular</td>\n",
       "      <td>(8, 6, 6)</td>\n",
       "    </tr>\n",
       "    <tr>\n",
       "      <th>6989</th>\n",
       "      <td>1</td>\n",
       "      <td>55</td>\n",
       "      <td>2020</td>\n",
       "      <td>False</td>\n",
       "      <td>38</td>\n",
       "      <td>True</td>\n",
       "      <td>&lt; 45</td>\n",
       "      <td>0</td>\n",
       "      <td>WM</td>\n",
       "      <td>(3, 6, 5)</td>\n",
       "    </tr>\n",
       "    <tr>\n",
       "      <th>6990</th>\n",
       "      <td>1</td>\n",
       "      <td>55</td>\n",
       "      <td>2021</td>\n",
       "      <td>False</td>\n",
       "      <td>33</td>\n",
       "      <td>True</td>\n",
       "      <td>&lt; 45</td>\n",
       "      <td>0</td>\n",
       "      <td>WM</td>\n",
       "      <td>(5, 4, 7)</td>\n",
       "    </tr>\n",
       "  </tbody>\n",
       "</table>\n",
       "<p>6991 rows × 10 columns</p>\n",
       "</div>"
      ],
      "text/plain": [
       "      dataset  patient  lesion    rim  volume  ignore main_reason reasons  \\\n",
       "0           0       56    2000  False     146   False         NaN           \n",
       "1           0       56    2001  False     252   False         NaN           \n",
       "2           0       56    2002  False     132   False         NaN           \n",
       "3           0       56    2003  False     206   False         NaN           \n",
       "4           0       56    2004  False     100   False         NaN           \n",
       "...       ...      ...     ...    ...     ...     ...         ...     ...   \n",
       "6986        1       55    2017  False      30    True        < 45       0   \n",
       "6987        1       55    2018  False      50   False         NaN           \n",
       "6988        1       55    2019  False      65   False         NaN           \n",
       "6989        1       55    2020  False      38    True        < 45       0   \n",
       "6990        1       55    2021  False      33    True        < 45       0   \n",
       "\n",
       "             location       size  \n",
       "0                  WM  (6, 9, 8)  \n",
       "1     Periventricular  (7, 8, 9)  \n",
       "2     Periventricular  (6, 6, 6)  \n",
       "3     Periventricular  (6, 9, 7)  \n",
       "4     Periventricular  (6, 9, 4)  \n",
       "...               ...        ...  \n",
       "6986  Periventricular  (6, 4, 5)  \n",
       "6987               WM  (4, 5, 5)  \n",
       "6988  Periventricular  (8, 6, 6)  \n",
       "6989               WM  (3, 6, 5)  \n",
       "6990               WM  (5, 4, 7)  \n",
       "\n",
       "[6991 rows x 10 columns]"
      ]
     },
     "execution_count": 66,
     "metadata": {},
     "output_type": "execute_result"
    }
   ],
   "source": [
    "df_lesions = get_dataframe_from_metadata()\n",
    "df_lesions"
   ]
  },
  {
   "cell_type": "code",
   "execution_count": 80,
   "metadata": {},
   "outputs": [
    {
     "name": "stdout",
     "output_type": "stream",
     "text": [
      "74 - 6 VS 9\n",
      "85 - 32 VS 1\n"
     ]
    }
   ],
   "source": [
    "# Check that the number of rim+ lesions in the GT is the same than in the experts annotations\n",
    "for pat in df_lesions[df_lesions[\"rim\"]][\"patient\"].unique():\n",
    "    our_lesions = len(df_lesions[(df_lesions[\"rim\"]) & (df_lesions[\"patient\"] == pat)].index)\n",
    "    gt_lesions = len(df_rim_ann[(df_rim_ann[\"patient\"] == pat)].index)\n",
    "    if our_lesions != gt_lesions:\n",
    "        print(f\"{pat} - {our_lesions} VS {gt_lesions}\")"
   ]
  },
  {
   "cell_type": "code",
   "execution_count": 116,
   "metadata": {},
   "outputs": [
    {
     "data": {
      "text/html": [
       "<div>\n",
       "<style scoped>\n",
       "    .dataframe tbody tr th:only-of-type {\n",
       "        vertical-align: middle;\n",
       "    }\n",
       "\n",
       "    .dataframe tbody tr th {\n",
       "        vertical-align: top;\n",
       "    }\n",
       "\n",
       "    .dataframe thead th {\n",
       "        text-align: right;\n",
       "    }\n",
       "</style>\n",
       "<table border=\"1\" class=\"dataframe\">\n",
       "  <thead>\n",
       "    <tr style=\"text-align: right;\">\n",
       "      <th></th>\n",
       "      <th>patient</th>\n",
       "      <th>x_start</th>\n",
       "      <th>y_start</th>\n",
       "      <th>z_start</th>\n",
       "      <th>x_end</th>\n",
       "      <th>y_end</th>\n",
       "      <th>z_end</th>\n",
       "      <th>x_size</th>\n",
       "      <th>y_size</th>\n",
       "      <th>z_size</th>\n",
       "      <th>max_dimension</th>\n",
       "    </tr>\n",
       "  </thead>\n",
       "  <tbody>\n",
       "    <tr>\n",
       "      <th>296</th>\n",
       "      <td>13</td>\n",
       "      <td>65</td>\n",
       "      <td>266</td>\n",
       "      <td>215</td>\n",
       "      <td>90</td>\n",
       "      <td>313</td>\n",
       "      <td>216</td>\n",
       "      <td>25</td>\n",
       "      <td>47</td>\n",
       "      <td>1</td>\n",
       "      <td>47</td>\n",
       "    </tr>\n",
       "    <tr>\n",
       "      <th>420</th>\n",
       "      <td>51</td>\n",
       "      <td>154</td>\n",
       "      <td>152</td>\n",
       "      <td>273</td>\n",
       "      <td>177</td>\n",
       "      <td>186</td>\n",
       "      <td>274</td>\n",
       "      <td>23</td>\n",
       "      <td>34</td>\n",
       "      <td>1</td>\n",
       "      <td>34</td>\n",
       "    </tr>\n",
       "    <tr>\n",
       "      <th>323</th>\n",
       "      <td>39</td>\n",
       "      <td>155</td>\n",
       "      <td>279</td>\n",
       "      <td>208</td>\n",
       "      <td>181</td>\n",
       "      <td>311</td>\n",
       "      <td>214</td>\n",
       "      <td>26</td>\n",
       "      <td>32</td>\n",
       "      <td>6</td>\n",
       "      <td>32</td>\n",
       "    </tr>\n",
       "    <tr>\n",
       "      <th>193</th>\n",
       "      <td>109</td>\n",
       "      <td>75</td>\n",
       "      <td>219</td>\n",
       "      <td>260</td>\n",
       "      <td>107</td>\n",
       "      <td>250</td>\n",
       "      <td>261</td>\n",
       "      <td>32</td>\n",
       "      <td>31</td>\n",
       "      <td>1</td>\n",
       "      <td>32</td>\n",
       "    </tr>\n",
       "    <tr>\n",
       "      <th>327</th>\n",
       "      <td>39</td>\n",
       "      <td>78</td>\n",
       "      <td>276</td>\n",
       "      <td>217</td>\n",
       "      <td>104</td>\n",
       "      <td>307</td>\n",
       "      <td>218</td>\n",
       "      <td>26</td>\n",
       "      <td>31</td>\n",
       "      <td>1</td>\n",
       "      <td>31</td>\n",
       "    </tr>\n",
       "    <tr>\n",
       "      <th>...</th>\n",
       "      <td>...</td>\n",
       "      <td>...</td>\n",
       "      <td>...</td>\n",
       "      <td>...</td>\n",
       "      <td>...</td>\n",
       "      <td>...</td>\n",
       "      <td>...</td>\n",
       "      <td>...</td>\n",
       "      <td>...</td>\n",
       "      <td>...</td>\n",
       "      <td>...</td>\n",
       "    </tr>\n",
       "    <tr>\n",
       "      <th>134</th>\n",
       "      <td>95</td>\n",
       "      <td>110</td>\n",
       "      <td>159</td>\n",
       "      <td>279</td>\n",
       "      <td>116</td>\n",
       "      <td>165</td>\n",
       "      <td>280</td>\n",
       "      <td>6</td>\n",
       "      <td>6</td>\n",
       "      <td>1</td>\n",
       "      <td>6</td>\n",
       "    </tr>\n",
       "    <tr>\n",
       "      <th>86</th>\n",
       "      <td>92</td>\n",
       "      <td>90</td>\n",
       "      <td>177</td>\n",
       "      <td>275</td>\n",
       "      <td>95</td>\n",
       "      <td>183</td>\n",
       "      <td>276</td>\n",
       "      <td>5</td>\n",
       "      <td>6</td>\n",
       "      <td>1</td>\n",
       "      <td>6</td>\n",
       "    </tr>\n",
       "    <tr>\n",
       "      <th>226</th>\n",
       "      <td>118</td>\n",
       "      <td>95</td>\n",
       "      <td>184</td>\n",
       "      <td>283</td>\n",
       "      <td>101</td>\n",
       "      <td>189</td>\n",
       "      <td>284</td>\n",
       "      <td>6</td>\n",
       "      <td>5</td>\n",
       "      <td>1</td>\n",
       "      <td>6</td>\n",
       "    </tr>\n",
       "    <tr>\n",
       "      <th>176</th>\n",
       "      <td>108</td>\n",
       "      <td>159</td>\n",
       "      <td>189</td>\n",
       "      <td>283</td>\n",
       "      <td>165</td>\n",
       "      <td>194</td>\n",
       "      <td>284</td>\n",
       "      <td>6</td>\n",
       "      <td>5</td>\n",
       "      <td>1</td>\n",
       "      <td>6</td>\n",
       "    </tr>\n",
       "    <tr>\n",
       "      <th>248</th>\n",
       "      <td>128</td>\n",
       "      <td>163</td>\n",
       "      <td>184</td>\n",
       "      <td>293</td>\n",
       "      <td>168</td>\n",
       "      <td>189</td>\n",
       "      <td>294</td>\n",
       "      <td>5</td>\n",
       "      <td>5</td>\n",
       "      <td>1</td>\n",
       "      <td>5</td>\n",
       "    </tr>\n",
       "  </tbody>\n",
       "</table>\n",
       "<p>434 rows × 11 columns</p>\n",
       "</div>"
      ],
      "text/plain": [
       "     patient  x_start  y_start  z_start  x_end  y_end  z_end  x_size  y_size  \\\n",
       "296       13       65      266      215     90    313    216      25      47   \n",
       "420       51      154      152      273    177    186    274      23      34   \n",
       "323       39      155      279      208    181    311    214      26      32   \n",
       "193      109       75      219      260    107    250    261      32      31   \n",
       "327       39       78      276      217    104    307    218      26      31   \n",
       "..       ...      ...      ...      ...    ...    ...    ...     ...     ...   \n",
       "134       95      110      159      279    116    165    280       6       6   \n",
       "86        92       90      177      275     95    183    276       5       6   \n",
       "226      118       95      184      283    101    189    284       6       5   \n",
       "176      108      159      189      283    165    194    284       6       5   \n",
       "248      128      163      184      293    168    189    294       5       5   \n",
       "\n",
       "     z_size  max_dimension  \n",
       "296       1             47  \n",
       "420       1             34  \n",
       "323       6             32  \n",
       "193       1             32  \n",
       "327       1             31  \n",
       "..      ...            ...  \n",
       "134       1              6  \n",
       "86        1              6  \n",
       "226       1              6  \n",
       "176       1              6  \n",
       "248       1              5  \n",
       "\n",
       "[434 rows x 11 columns]"
      ]
     },
     "execution_count": 116,
     "metadata": {},
     "output_type": "execute_result"
    }
   ],
   "source": [
    "df_rim_ann[\"max_dimension\"] = df_rim_ann.apply(lambda x: max(x[\"x_size\"], x[\"y_size\"], x[\"z_size\"]), axis=1)\n",
    "df_rim_ann = df_rim_ann.sort_values(\"max_dimension\", ascending=False)\n",
    "df_rim_ann"
   ]
  },
  {
   "cell_type": "code",
   "execution_count": 139,
   "metadata": {},
   "outputs": [
    {
     "name": "stdout",
     "output_type": "stream",
     "text": [
      "22\n",
      "95.6\n"
     ]
    }
   ],
   "source": [
    "thirdQ = np.percentile(df_rim_ann[\"max_dimension\"], 75)\n",
    "firstQ = np.percentile(df_rim_ann[\"max_dimension\"], 25)\n",
    "interrange = thirdQ - firstQ\n",
    "\n",
    "limit = int(np.ceil(thirdQ + interrange * 1.5))\n",
    "\n",
    "print(limit)\n",
    "print(f\"{100 - 100 * np.sum(df_rim_ann['max_dimension'] > limit) / len(df_rim_ann['max_dimension']):.1f}\")"
   ]
  },
  {
   "cell_type": "code",
   "execution_count": 151,
   "metadata": {},
   "outputs": [
    {
     "data": {
      "text/plain": [
       "<matplotlib.axes._subplots.AxesSubplot at 0x7f5f5f9a68e0>"
      ]
     },
     "execution_count": 151,
     "metadata": {},
     "output_type": "execute_result"
    },
    {
     "data": {
      "image/png": "[encoded data removed]",
      "text/plain": [
       "<Figure size 864x144 with 1 Axes>"
      ]
     },
     "metadata": {
      "needs_background": "light"
     },
     "output_type": "display_data"
    }
   ],
   "source": [
    "plt.figure(figsize=(12, 2))\n",
    "plt.xticks(range(0, 51, 2))\n",
    "sns.boxplot(df_rim_ann[\"max_dimension\"])"
   ]
  },
  {
   "cell_type": "code",
   "execution_count": 113,
   "metadata": {},
   "outputs": [
    {
     "data": {
      "text/html": [
       "<div>\n",
       "<style scoped>\n",
       "    .dataframe tbody tr th:only-of-type {\n",
       "        vertical-align: middle;\n",
       "    }\n",
       "\n",
       "    .dataframe tbody tr th {\n",
       "        vertical-align: top;\n",
       "    }\n",
       "\n",
       "    .dataframe thead th {\n",
       "        text-align: right;\n",
       "    }\n",
       "</style>\n",
       "<table border=\"1\" class=\"dataframe\">\n",
       "  <thead>\n",
       "    <tr style=\"text-align: right;\">\n",
       "      <th></th>\n",
       "      <th>patient</th>\n",
       "      <th>x_start</th>\n",
       "      <th>y_start</th>\n",
       "      <th>z_start</th>\n",
       "      <th>x_end</th>\n",
       "      <th>y_end</th>\n",
       "      <th>z_end</th>\n",
       "      <th>x_size</th>\n",
       "      <th>y_size</th>\n",
       "      <th>z_size</th>\n",
       "    </tr>\n",
       "  </thead>\n",
       "  <tbody>\n",
       "    <tr>\n",
       "      <th>0</th>\n",
       "      <td>95</td>\n",
       "      <td>109</td>\n",
       "      <td>177</td>\n",
       "      <td>283</td>\n",
       "      <td>120</td>\n",
       "      <td>186</td>\n",
       "      <td>284</td>\n",
       "      <td>11</td>\n",
       "      <td>9</td>\n",
       "      <td>1</td>\n",
       "    </tr>\n",
       "    <tr>\n",
       "      <th>1</th>\n",
       "      <td>95</td>\n",
       "      <td>100</td>\n",
       "      <td>166</td>\n",
       "      <td>282</td>\n",
       "      <td>109</td>\n",
       "      <td>175</td>\n",
       "      <td>283</td>\n",
       "      <td>9</td>\n",
       "      <td>9</td>\n",
       "      <td>1</td>\n",
       "    </tr>\n",
       "    <tr>\n",
       "      <th>2</th>\n",
       "      <td>95</td>\n",
       "      <td>102</td>\n",
       "      <td>163</td>\n",
       "      <td>279</td>\n",
       "      <td>109</td>\n",
       "      <td>169</td>\n",
       "      <td>280</td>\n",
       "      <td>7</td>\n",
       "      <td>6</td>\n",
       "      <td>1</td>\n",
       "    </tr>\n",
       "    <tr>\n",
       "      <th>3</th>\n",
       "      <td>95</td>\n",
       "      <td>110</td>\n",
       "      <td>159</td>\n",
       "      <td>279</td>\n",
       "      <td>116</td>\n",
       "      <td>165</td>\n",
       "      <td>280</td>\n",
       "      <td>6</td>\n",
       "      <td>6</td>\n",
       "      <td>1</td>\n",
       "    </tr>\n",
       "    <tr>\n",
       "      <th>4</th>\n",
       "      <td>95</td>\n",
       "      <td>111</td>\n",
       "      <td>199</td>\n",
       "      <td>278</td>\n",
       "      <td>119</td>\n",
       "      <td>206</td>\n",
       "      <td>279</td>\n",
       "      <td>8</td>\n",
       "      <td>7</td>\n",
       "      <td>1</td>\n",
       "    </tr>\n",
       "    <tr>\n",
       "      <th>5</th>\n",
       "      <td>95</td>\n",
       "      <td>166</td>\n",
       "      <td>183</td>\n",
       "      <td>278</td>\n",
       "      <td>172</td>\n",
       "      <td>191</td>\n",
       "      <td>279</td>\n",
       "      <td>6</td>\n",
       "      <td>8</td>\n",
       "      <td>1</td>\n",
       "    </tr>\n",
       "    <tr>\n",
       "      <th>6</th>\n",
       "      <td>95</td>\n",
       "      <td>110</td>\n",
       "      <td>186</td>\n",
       "      <td>283</td>\n",
       "      <td>118</td>\n",
       "      <td>193</td>\n",
       "      <td>284</td>\n",
       "      <td>8</td>\n",
       "      <td>7</td>\n",
       "      <td>1</td>\n",
       "    </tr>\n",
       "    <tr>\n",
       "      <th>7</th>\n",
       "      <td>95</td>\n",
       "      <td>163</td>\n",
       "      <td>162</td>\n",
       "      <td>279</td>\n",
       "      <td>171</td>\n",
       "      <td>170</td>\n",
       "      <td>280</td>\n",
       "      <td>8</td>\n",
       "      <td>8</td>\n",
       "      <td>1</td>\n",
       "    </tr>\n",
       "    <tr>\n",
       "      <th>8</th>\n",
       "      <td>95</td>\n",
       "      <td>165</td>\n",
       "      <td>191</td>\n",
       "      <td>271</td>\n",
       "      <td>176</td>\n",
       "      <td>209</td>\n",
       "      <td>272</td>\n",
       "      <td>11</td>\n",
       "      <td>18</td>\n",
       "      <td>1</td>\n",
       "    </tr>\n",
       "    <tr>\n",
       "      <th>9</th>\n",
       "      <td>95</td>\n",
       "      <td>172</td>\n",
       "      <td>197</td>\n",
       "      <td>273</td>\n",
       "      <td>179</td>\n",
       "      <td>203</td>\n",
       "      <td>274</td>\n",
       "      <td>7</td>\n",
       "      <td>6</td>\n",
       "      <td>1</td>\n",
       "    </tr>\n",
       "    <tr>\n",
       "      <th>10</th>\n",
       "      <td>95</td>\n",
       "      <td>166</td>\n",
       "      <td>125</td>\n",
       "      <td>267</td>\n",
       "      <td>173</td>\n",
       "      <td>135</td>\n",
       "      <td>268</td>\n",
       "      <td>7</td>\n",
       "      <td>10</td>\n",
       "      <td>1</td>\n",
       "    </tr>\n",
       "    <tr>\n",
       "      <th>11</th>\n",
       "      <td>95</td>\n",
       "      <td>177</td>\n",
       "      <td>193</td>\n",
       "      <td>258</td>\n",
       "      <td>196</td>\n",
       "      <td>205</td>\n",
       "      <td>259</td>\n",
       "      <td>19</td>\n",
       "      <td>12</td>\n",
       "      <td>1</td>\n",
       "    </tr>\n",
       "    <tr>\n",
       "      <th>12</th>\n",
       "      <td>95</td>\n",
       "      <td>176</td>\n",
       "      <td>168</td>\n",
       "      <td>258</td>\n",
       "      <td>183</td>\n",
       "      <td>176</td>\n",
       "      <td>259</td>\n",
       "      <td>7</td>\n",
       "      <td>8</td>\n",
       "      <td>1</td>\n",
       "    </tr>\n",
       "    <tr>\n",
       "      <th>13</th>\n",
       "      <td>95</td>\n",
       "      <td>95</td>\n",
       "      <td>240</td>\n",
       "      <td>252</td>\n",
       "      <td>106</td>\n",
       "      <td>253</td>\n",
       "      <td>253</td>\n",
       "      <td>11</td>\n",
       "      <td>13</td>\n",
       "      <td>1</td>\n",
       "    </tr>\n",
       "    <tr>\n",
       "      <th>14</th>\n",
       "      <td>95</td>\n",
       "      <td>88</td>\n",
       "      <td>230</td>\n",
       "      <td>252</td>\n",
       "      <td>99</td>\n",
       "      <td>241</td>\n",
       "      <td>253</td>\n",
       "      <td>11</td>\n",
       "      <td>11</td>\n",
       "      <td>1</td>\n",
       "    </tr>\n",
       "    <tr>\n",
       "      <th>15</th>\n",
       "      <td>95</td>\n",
       "      <td>172</td>\n",
       "      <td>256</td>\n",
       "      <td>231</td>\n",
       "      <td>179</td>\n",
       "      <td>268</td>\n",
       "      <td>232</td>\n",
       "      <td>7</td>\n",
       "      <td>12</td>\n",
       "      <td>1</td>\n",
       "    </tr>\n",
       "  </tbody>\n",
       "</table>\n",
       "</div>"
      ],
      "text/plain": [
       "    patient  x_start  y_start  z_start  x_end  y_end  z_end  x_size  y_size  \\\n",
       "0        95      109      177      283    120    186    284      11       9   \n",
       "1        95      100      166      282    109    175    283       9       9   \n",
       "2        95      102      163      279    109    169    280       7       6   \n",
       "3        95      110      159      279    116    165    280       6       6   \n",
       "4        95      111      199      278    119    206    279       8       7   \n",
       "5        95      166      183      278    172    191    279       6       8   \n",
       "6        95      110      186      283    118    193    284       8       7   \n",
       "7        95      163      162      279    171    170    280       8       8   \n",
       "8        95      165      191      271    176    209    272      11      18   \n",
       "9        95      172      197      273    179    203    274       7       6   \n",
       "10       95      166      125      267    173    135    268       7      10   \n",
       "11       95      177      193      258    196    205    259      19      12   \n",
       "12       95      176      168      258    183    176    259       7       8   \n",
       "13       95       95      240      252    106    253    253      11      13   \n",
       "14       95       88      230      252     99    241    253      11      11   \n",
       "15       95      172      256      231    179    268    232       7      12   \n",
       "\n",
       "    z_size  \n",
       "0        1  \n",
       "1        1  \n",
       "2        1  \n",
       "3        1  \n",
       "4        1  \n",
       "5        1  \n",
       "6        1  \n",
       "7        1  \n",
       "8        1  \n",
       "9        1  \n",
       "10       1  \n",
       "11       1  \n",
       "12       1  \n",
       "13       1  \n",
       "14       1  \n",
       "15       1  "
      ]
     },
     "execution_count": 113,
     "metadata": {},
     "output_type": "execute_result"
    }
   ],
   "source": [
    "def analize_experts_slice_size():\n",
    "    results = []\n",
    "    dataset = AVAILABLE_DATASETS[DATASET_BASEL_ID]\n",
    "    pat = 95\n",
    "    \n",
    "    rimpos_annotations_paths = dataset.get(return_type=\"filename\", subject=f\"{pat:03d}\", **CONTRASTS[\"EXPERTS_ANNOTATIONS\"])\n",
    "    if len(rimpos_annotations_paths) == 0:\n",
    "        print(f\"Patient {pat} omitted.\")\n",
    "        return 0\n",
    "    image = nib.load(rimpos_annotations_paths[0]).get_fdata().astype(int)\n",
    "\n",
    "    objects = ndimage.find_objects(image)\n",
    "    if objects is None or len(objects) == 0:\n",
    "        print(f\"ERROR ON PATIENT {pat}\")\n",
    "        return 0\n",
    "    counter = 1\n",
    "    for (sl_x, sl_y, sl_z) in [obj for obj in objects if obj is not None]:\n",
    "        if sl_y.start == 0:\n",
    "            print(np.where(image==counter))\n",
    "        results.append((pat, sl_x.start, sl_y.start, sl_z.start, sl_x.stop, sl_y.stop, sl_z.stop))\n",
    "        counter += 1\n",
    "        \n",
    "    df = pd.DataFrame(data=results, columns=[\"patient\", \"x_start\", \"y_start\", \"z_start\", \"x_end\", \"y_end\", \"z_end\"])\n",
    "    df[\"x_size\"] = df[\"x_end\"] - df[\"x_start\"]\n",
    "    df[\"y_size\"] = df[\"y_end\"] - df[\"y_start\"]\n",
    "    df[\"z_size\"] = df[\"z_end\"] - df[\"z_start\"]\n",
    "    \n",
    "    return df\n",
    "\n",
    "analize_experts_slice_size()"
   ]
  },
  {
   "cell_type": "code",
   "execution_count": 10,
   "metadata": {},
   "outputs": [],
   "source": [
    "to_concat = []\n",
    "for dataset_id in range(len(AVAILABLE_DATASETS)):\n",
    "    dataset = AVAILABLE_DATASETS[dataset_id]\n",
    "    for pat in dataset.get_subjects():\n",
    "        paths = dataset.get(return_type=\"filename\", subject=f\"{pat}\", scope=SPLIT_LESIONS_METADATA[\"v02\"][\"pipeline\"], suffix=SPLIT_LESIONS_METADATA[\"v02\"][\"suffix\"], acquisition=None, extension=\"csv\")\n",
    "        if len(paths) == 1:\n",
    "            to_concat.append(pd.read_csv(paths[0]))\n",
    "            #pd.read_csv(paths[0])[[\"dataset_id\", \"patient\", \"lesion\", \"x\", \"y\", \"z\", \"percentage_rims\", \"voxels_rims\", \"real\"]].to_csv(paths[0], index=False)\n",
    "\n",
    "df = pd.concat(to_concat)"
   ]
  },
  {
   "cell_type": "code",
   "execution_count": 11,
   "metadata": {},
   "outputs": [
    {
     "data": {
      "text/html": [
       "<div>\n",
       "<style scoped>\n",
       "    .dataframe tbody tr th:only-of-type {\n",
       "        vertical-align: middle;\n",
       "    }\n",
       "\n",
       "    .dataframe tbody tr th {\n",
       "        vertical-align: top;\n",
       "    }\n",
       "\n",
       "    .dataframe thead th {\n",
       "        text-align: right;\n",
       "    }\n",
       "</style>\n",
       "<table border=\"1\" class=\"dataframe\">\n",
       "  <thead>\n",
       "    <tr style=\"text-align: right;\">\n",
       "      <th></th>\n",
       "      <th>dataset_id</th>\n",
       "      <th>patient</th>\n",
       "      <th>lesion</th>\n",
       "      <th>x</th>\n",
       "      <th>y</th>\n",
       "      <th>z</th>\n",
       "      <th>percentage_rims</th>\n",
       "      <th>voxels_rims</th>\n",
       "      <th>real</th>\n",
       "    </tr>\n",
       "  </thead>\n",
       "  <tbody>\n",
       "    <tr>\n",
       "      <th>0</th>\n",
       "      <td>0</td>\n",
       "      <td>56</td>\n",
       "      <td>2001</td>\n",
       "      <td>79</td>\n",
       "      <td>167</td>\n",
       "      <td>197</td>\n",
       "      <td>[]</td>\n",
       "      <td>[]</td>\n",
       "      <td>True</td>\n",
       "    </tr>\n",
       "    <tr>\n",
       "      <th>1</th>\n",
       "      <td>0</td>\n",
       "      <td>56</td>\n",
       "      <td>2002</td>\n",
       "      <td>89</td>\n",
       "      <td>252</td>\n",
       "      <td>225</td>\n",
       "      <td>[]</td>\n",
       "      <td>[]</td>\n",
       "      <td>True</td>\n",
       "    </tr>\n",
       "    <tr>\n",
       "      <th>2</th>\n",
       "      <td>0</td>\n",
       "      <td>56</td>\n",
       "      <td>2003</td>\n",
       "      <td>104</td>\n",
       "      <td>276</td>\n",
       "      <td>216</td>\n",
       "      <td>[]</td>\n",
       "      <td>[]</td>\n",
       "      <td>True</td>\n",
       "    </tr>\n",
       "    <tr>\n",
       "      <th>3</th>\n",
       "      <td>0</td>\n",
       "      <td>56</td>\n",
       "      <td>2004</td>\n",
       "      <td>97</td>\n",
       "      <td>237</td>\n",
       "      <td>262</td>\n",
       "      <td>[]</td>\n",
       "      <td>[]</td>\n",
       "      <td>True</td>\n",
       "    </tr>\n",
       "    <tr>\n",
       "      <th>4</th>\n",
       "      <td>0</td>\n",
       "      <td>56</td>\n",
       "      <td>2005</td>\n",
       "      <td>101</td>\n",
       "      <td>132</td>\n",
       "      <td>249</td>\n",
       "      <td>[]</td>\n",
       "      <td>[]</td>\n",
       "      <td>True</td>\n",
       "    </tr>\n",
       "    <tr>\n",
       "      <th>...</th>\n",
       "      <td>...</td>\n",
       "      <td>...</td>\n",
       "      <td>...</td>\n",
       "      <td>...</td>\n",
       "      <td>...</td>\n",
       "      <td>...</td>\n",
       "      <td>...</td>\n",
       "      <td>...</td>\n",
       "      <td>...</td>\n",
       "    </tr>\n",
       "    <tr>\n",
       "      <th>79</th>\n",
       "      <td>0</td>\n",
       "      <td>112</td>\n",
       "      <td>1030</td>\n",
       "      <td>146</td>\n",
       "      <td>194</td>\n",
       "      <td>285</td>\n",
       "      <td>[1.0, 1.0]</td>\n",
       "      <td>[44, 32]</td>\n",
       "      <td>False</td>\n",
       "    </tr>\n",
       "    <tr>\n",
       "      <th>80</th>\n",
       "      <td>0</td>\n",
       "      <td>112</td>\n",
       "      <td>1031</td>\n",
       "      <td>162</td>\n",
       "      <td>175</td>\n",
       "      <td>291</td>\n",
       "      <td>[0.8070175438596491, 1.0]</td>\n",
       "      <td>[46, 44]</td>\n",
       "      <td>False</td>\n",
       "    </tr>\n",
       "    <tr>\n",
       "      <th>81</th>\n",
       "      <td>0</td>\n",
       "      <td>112</td>\n",
       "      <td>1032</td>\n",
       "      <td>161</td>\n",
       "      <td>173</td>\n",
       "      <td>307</td>\n",
       "      <td>[0.5964912280701754, 0.8181818181818182]</td>\n",
       "      <td>[34, 36]</td>\n",
       "      <td>False</td>\n",
       "    </tr>\n",
       "    <tr>\n",
       "      <th>82</th>\n",
       "      <td>0</td>\n",
       "      <td>112</td>\n",
       "      <td>1033</td>\n",
       "      <td>161</td>\n",
       "      <td>196</td>\n",
       "      <td>306</td>\n",
       "      <td>[0.8245614035087719, 0.9090909090909091]</td>\n",
       "      <td>[47, 40]</td>\n",
       "      <td>False</td>\n",
       "    </tr>\n",
       "    <tr>\n",
       "      <th>83</th>\n",
       "      <td>0</td>\n",
       "      <td>112</td>\n",
       "      <td>1034</td>\n",
       "      <td>163</td>\n",
       "      <td>184</td>\n",
       "      <td>296</td>\n",
       "      <td>[1.0, 1.0]</td>\n",
       "      <td>[57, 44]</td>\n",
       "      <td>False</td>\n",
       "    </tr>\n",
       "  </tbody>\n",
       "</table>\n",
       "<p>3583 rows × 9 columns</p>\n",
       "</div>"
      ],
      "text/plain": [
       "    dataset_id  patient  lesion    x    y    z  \\\n",
       "0            0       56    2001   79  167  197   \n",
       "1            0       56    2002   89  252  225   \n",
       "2            0       56    2003  104  276  216   \n",
       "3            0       56    2004   97  237  262   \n",
       "4            0       56    2005  101  132  249   \n",
       "..         ...      ...     ...  ...  ...  ...   \n",
       "79           0      112    1030  146  194  285   \n",
       "80           0      112    1031  162  175  291   \n",
       "81           0      112    1032  161  173  307   \n",
       "82           0      112    1033  161  196  306   \n",
       "83           0      112    1034  163  184  296   \n",
       "\n",
       "                             percentage_rims voxels_rims   real  \n",
       "0                                         []          []   True  \n",
       "1                                         []          []   True  \n",
       "2                                         []          []   True  \n",
       "3                                         []          []   True  \n",
       "4                                         []          []   True  \n",
       "..                                       ...         ...    ...  \n",
       "79                                [1.0, 1.0]    [44, 32]  False  \n",
       "80                 [0.8070175438596491, 1.0]    [46, 44]  False  \n",
       "81  [0.5964912280701754, 0.8181818181818182]    [34, 36]  False  \n",
       "82  [0.8245614035087719, 0.9090909090909091]    [47, 40]  False  \n",
       "83                                [1.0, 1.0]    [57, 44]  False  \n",
       "\n",
       "[3583 rows x 9 columns]"
      ]
     },
     "execution_count": 11,
     "metadata": {},
     "output_type": "execute_result"
    }
   ],
   "source": [
    "df"
   ]
  },
  {
   "cell_type": "code",
   "execution_count": 19,
   "metadata": {},
   "outputs": [
    {
     "name": "stdout",
     "output_type": "stream",
     "text": [
      "56 - 0\n",
      "57 - 3\n",
      "58 - 2\n",
      "59 - 0\n",
      "60 - 2\n",
      "61 - 0\n",
      "62 - 0\n",
      "63 - 0\n",
      "64 - 28\n",
      "65 - 5\n",
      "66 - 4\n",
      "67 - 2\n",
      "68 - 0\n",
      "69 - 0\n",
      "70 - 6\n",
      "71 - 0\n",
      "72 - 6\n",
      "73 - 0\n",
      "74 - 12\n",
      "75 - 12\n",
      "76 - 0\n",
      "77 - 7\n",
      "78 - 12\n",
      "79 - 3\n",
      "80 - 1\n",
      "81 - 3\n",
      "82 - 0\n",
      "83 - 1\n",
      "92 - 23\n",
      "93 - 46\n",
      "94 - 17\n",
      "95 - 40\n",
      "96 - 9\n",
      "97 - 8\n",
      "98 - 0\n",
      "99 - 0\n",
      "100 - 0\n",
      "101 - 21\n",
      "102 - 10\n",
      "104 - 0\n",
      "105 - 0\n",
      "106 - 0\n",
      "108 - 33\n",
      "109 - 20\n",
      "110 - 0\n",
      "112 - 7\n"
     ]
    }
   ],
   "source": [
    "for (db, pat), grouped in df.groupby([\"dataset_id\", \"patient\"]):\n",
    "    print(f\"{pat} - {len(grouped[(grouped['lesion'] // 1000 == 1) & (grouped['real'])].index)}\")"
   ]
  },
  {
   "cell_type": "code",
   "execution_count": 21,
   "metadata": {},
   "outputs": [
    {
     "data": {
      "text/plain": [
       "array([ 56,  57,  58,  59,  60,  61,  62,  63,  64,  65,  66,  67,  68,\n",
       "        69,  70,  71,  72,  73,  74,  75,  76,  77,  78,  79,  80,  81,\n",
       "        82,  83,  92,  93,  94,  95,  96,  97,  98,  99, 100, 101, 102,\n",
       "       104, 105, 106, 108, 109, 110, 112])"
      ]
     },
     "execution_count": 21,
     "metadata": {},
     "output_type": "execute_result"
    }
   ],
   "source": [
    "patients = df[\"patient\"].unique()\n",
    "patients"
   ]
  },
  {
   "cell_type": "code",
   "execution_count": 60,
   "metadata": {},
   "outputs": [
    {
     "name": "stdout",
     "output_type": "stream",
     "text": [
      "393\n",
      "75\n",
      "8\n"
     ]
    }
   ],
   "source": [
    "testing = [65, 66, 67, 68, 69, 70, 74, 93]\n",
    "validation = [71, 83, 106, 108, 109, 112, 110]\n",
    "training = [p for p in patients if p not in testing and p not in validation]\n",
    "\n",
    "print(len(df[(df[\"real\"]) & (df[\"lesion\"] // 2000 == 1) & (df[\"patient\"].isin(testing))].index))\n",
    "print(len(df[(df[\"real\"]) & (df[\"lesion\"] // 1000 == 1) & (df[\"patient\"].isin(testing))].index))\n",
    "print(len(df.loc[(df[\"patient\"].isin(testing)), \"patient\"].unique()))"
   ]
  },
  {
   "cell_type": "code",
   "execution_count": 64,
   "metadata": {},
   "outputs": [
    {
     "name": "stdout",
     "output_type": "stream",
     "text": [
      "1529\n",
      "779\n",
      "31\n"
     ]
    }
   ],
   "source": [
    "\n",
    "print(len(df[(df[\"real\"]) & (df[\"lesion\"] // 2000 == 1) & (df[\"patient\"].isin(training))].index))\n",
    "print(len(df[(df[\"real\"]) & (df[\"lesion\"] // 1000 == 1) & (df[\"patient\"].isin(training))].index))\n",
    "print(len(df.loc[(df[\"patient\"].isin(training)), \"patient\"].unique()))"
   ]
  },
  {
   "cell_type": "code",
   "execution_count": 62,
   "metadata": {},
   "outputs": [
    {
     "name": "stdout",
     "output_type": "stream",
     "text": [
      "344\n",
      "61\n",
      "7\n"
     ]
    }
   ],
   "source": [
    "\n",
    "print(len(df[(df[\"real\"]) & (df[\"lesion\"] // 2000 == 1) & (df[\"patient\"].isin(validation))].index))\n",
    "print(len(df[(df[\"real\"]) & (df[\"lesion\"] // 1000 == 1) & (df[\"patient\"].isin(validation))].index))\n",
    "print(len(df.loc[(df[\"patient\"].isin(validation)), \"patient\"].unique()))"
   ]
  },
  {
   "cell_type": "code",
   "execution_count": 66,
   "metadata": {},
   "outputs": [
    {
     "name": "stdout",
     "output_type": "stream",
     "text": [
      "['056', '057', '058', '059', '060', '061', '062', '063', '064', '072', '073', '075', '076', '077', '078', '079', '080', '081', '082', '092', '094', '095', '096', '097', '098', '099', '100', '101', '102', '104', '105']\n"
     ]
    }
   ],
   "source": [
    "print([f'{p:03d}' for p in training])"
   ]
  },
  {
   "cell_type": "code",
   "execution_count": null,
   "metadata": {},
   "outputs": [],
   "source": []
  }
 ],
 "metadata": {
  "kernelspec": {
   "display_name": "Python 3",
   "language": "python",
   "name": "python3"
  },
  "language_info": {
   "codemirror_mode": {
    "name": "ipython",
    "version": 3
   },
   "file_extension": ".py",
   "mimetype": "text/x-python",
   "name": "python",
   "nbconvert_exporter": "python",
   "pygments_lexer": "ipython3",
   "version": "3.8.1"
  }
 },
 "nbformat": 4,
 "nbformat_minor": 4
}
